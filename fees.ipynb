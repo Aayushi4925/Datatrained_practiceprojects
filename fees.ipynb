{
 "cells": [
  {
   "cell_type": "markdown",
   "metadata": {},
   "source": [
    "# Docter Fees Consultation Project"
   ]
  },
  {
   "cell_type": "code",
   "execution_count": 2,
   "metadata": {},
   "outputs": [],
   "source": [
    "import pandas as pd\n",
    "import numpy as np\n",
    "import seaborn as sns\n",
    "import matplotlib.pyplot as plt"
   ]
  },
  {
   "cell_type": "code",
   "execution_count": 217,
   "metadata": {},
   "outputs": [],
   "source": [
    "import warnings\n",
    "warnings.filterwarnings('ignore')"
   ]
  },
  {
   "cell_type": "code",
   "execution_count": 3,
   "metadata": {},
   "outputs": [],
   "source": [
    "d = pd.read_excel('C:/Users/Aayushi Lashkari/Downloads/Doctor_fee_consultation/Final Participant Data Folder/Final_Train.xlsx')"
   ]
  },
  {
   "cell_type": "code",
   "execution_count": 4,
   "metadata": {},
   "outputs": [],
   "source": [
    "df = pd.DataFrame(d)"
   ]
  },
  {
   "cell_type": "code",
   "execution_count": 5,
   "metadata": {},
   "outputs": [
    {
     "data": {
      "text/html": [
       "<div>\n",
       "<style scoped>\n",
       "    .dataframe tbody tr th:only-of-type {\n",
       "        vertical-align: middle;\n",
       "    }\n",
       "\n",
       "    .dataframe tbody tr th {\n",
       "        vertical-align: top;\n",
       "    }\n",
       "\n",
       "    .dataframe thead th {\n",
       "        text-align: right;\n",
       "    }\n",
       "</style>\n",
       "<table border=\"1\" class=\"dataframe\">\n",
       "  <thead>\n",
       "    <tr style=\"text-align: right;\">\n",
       "      <th></th>\n",
       "      <th>Qualification</th>\n",
       "      <th>Experience</th>\n",
       "      <th>Rating</th>\n",
       "      <th>Place</th>\n",
       "      <th>Profile</th>\n",
       "      <th>Miscellaneous_Info</th>\n",
       "      <th>Fees</th>\n",
       "    </tr>\n",
       "  </thead>\n",
       "  <tbody>\n",
       "    <tr>\n",
       "      <th>0</th>\n",
       "      <td>BHMS, MD - Homeopathy</td>\n",
       "      <td>24 years experience</td>\n",
       "      <td>100%</td>\n",
       "      <td>Kakkanad, Ernakulam</td>\n",
       "      <td>Homeopath</td>\n",
       "      <td>100% 16 Feedback Kakkanad, Ernakulam</td>\n",
       "      <td>100</td>\n",
       "    </tr>\n",
       "    <tr>\n",
       "      <th>1</th>\n",
       "      <td>BAMS, MD - Ayurveda Medicine</td>\n",
       "      <td>12 years experience</td>\n",
       "      <td>98%</td>\n",
       "      <td>Whitefield, Bangalore</td>\n",
       "      <td>Ayurveda</td>\n",
       "      <td>98% 76 Feedback Whitefield, Bangalore</td>\n",
       "      <td>350</td>\n",
       "    </tr>\n",
       "    <tr>\n",
       "      <th>2</th>\n",
       "      <td>MBBS, MS - Otorhinolaryngology</td>\n",
       "      <td>9 years experience</td>\n",
       "      <td>NaN</td>\n",
       "      <td>Mathikere - BEL, Bangalore</td>\n",
       "      <td>ENT Specialist</td>\n",
       "      <td>NaN</td>\n",
       "      <td>300</td>\n",
       "    </tr>\n",
       "    <tr>\n",
       "      <th>3</th>\n",
       "      <td>BSc - Zoology, BAMS</td>\n",
       "      <td>12 years experience</td>\n",
       "      <td>NaN</td>\n",
       "      <td>Bannerghatta Road, Bangalore</td>\n",
       "      <td>Ayurveda</td>\n",
       "      <td>Bannerghatta Road, Bangalore ₹250 Available on...</td>\n",
       "      <td>250</td>\n",
       "    </tr>\n",
       "    <tr>\n",
       "      <th>4</th>\n",
       "      <td>BAMS</td>\n",
       "      <td>20 years experience</td>\n",
       "      <td>100%</td>\n",
       "      <td>Keelkattalai, Chennai</td>\n",
       "      <td>Ayurveda</td>\n",
       "      <td>100% 4 Feedback Keelkattalai, Chennai</td>\n",
       "      <td>250</td>\n",
       "    </tr>\n",
       "  </tbody>\n",
       "</table>\n",
       "</div>"
      ],
      "text/plain": [
       "                    Qualification           Experience Rating  \\\n",
       "0           BHMS, MD - Homeopathy  24 years experience   100%   \n",
       "1    BAMS, MD - Ayurveda Medicine  12 years experience    98%   \n",
       "2  MBBS, MS - Otorhinolaryngology   9 years experience    NaN   \n",
       "3             BSc - Zoology, BAMS  12 years experience    NaN   \n",
       "4                            BAMS  20 years experience   100%   \n",
       "\n",
       "                          Place         Profile  \\\n",
       "0           Kakkanad, Ernakulam       Homeopath   \n",
       "1         Whitefield, Bangalore        Ayurveda   \n",
       "2    Mathikere - BEL, Bangalore  ENT Specialist   \n",
       "3  Bannerghatta Road, Bangalore        Ayurveda   \n",
       "4         Keelkattalai, Chennai        Ayurveda   \n",
       "\n",
       "                                  Miscellaneous_Info  Fees  \n",
       "0               100% 16 Feedback Kakkanad, Ernakulam   100  \n",
       "1              98% 76 Feedback Whitefield, Bangalore   350  \n",
       "2                                                NaN   300  \n",
       "3  Bannerghatta Road, Bangalore ₹250 Available on...   250  \n",
       "4              100% 4 Feedback Keelkattalai, Chennai   250  "
      ]
     },
     "execution_count": 5,
     "metadata": {},
     "output_type": "execute_result"
    }
   ],
   "source": [
    "df.head()"
   ]
  },
  {
   "cell_type": "code",
   "execution_count": 6,
   "metadata": {},
   "outputs": [
    {
     "name": "stdout",
     "output_type": "stream",
     "text": [
      "<class 'pandas.core.frame.DataFrame'>\n",
      "RangeIndex: 5961 entries, 0 to 5960\n",
      "Data columns (total 7 columns):\n",
      " #   Column              Non-Null Count  Dtype \n",
      "---  ------              --------------  ----- \n",
      " 0   Qualification       5961 non-null   object\n",
      " 1   Experience          5961 non-null   object\n",
      " 2   Rating              2659 non-null   object\n",
      " 3   Place               5936 non-null   object\n",
      " 4   Profile             5961 non-null   object\n",
      " 5   Miscellaneous_Info  3341 non-null   object\n",
      " 6   Fees                5961 non-null   int64 \n",
      "dtypes: int64(1), object(6)\n",
      "memory usage: 326.1+ KB\n"
     ]
    }
   ],
   "source": [
    "df.info()"
   ]
  },
  {
   "cell_type": "markdown",
   "metadata": {},
   "source": [
    "Total 5961 rows are there\n",
    "\n",
    "All the columns are in correct datatypes\n",
    "\n",
    "3 columns have null values"
   ]
  },
  {
   "cell_type": "code",
   "execution_count": 7,
   "metadata": {},
   "outputs": [
    {
     "data": {
      "text/plain": [
       "<matplotlib.axes._subplots.AxesSubplot at 0x1f366aa7d30>"
      ]
     },
     "execution_count": 7,
     "metadata": {},
     "output_type": "execute_result"
    },
    {
     "data": {
      "image/png": "[encoded data removed]",
      "text/plain": [
       "<Figure size 432x288 with 1 Axes>"
      ]
     },
     "metadata": {
      "needs_background": "light"
     },
     "output_type": "display_data"
    }
   ],
   "source": [
    "sns.heatmap(df.isnull(),cbar=False)"
   ]
  },
  {
   "cell_type": "markdown",
   "metadata": {},
   "source": [
    "It seems that about 50% of the rows in Rating and Miscellenous have null values"
   ]
  },
  {
   "cell_type": "code",
   "execution_count": 8,
   "metadata": {},
   "outputs": [],
   "source": [
    "features_with_null = [i for i in df if df[i].isnull().sum()>=1]"
   ]
  },
  {
   "cell_type": "code",
   "execution_count": 9,
   "metadata": {},
   "outputs": [
    {
     "name": "stdout",
     "output_type": "stream",
     "text": [
      "Rating 3302 0.5539339037074317\n",
      "Place 25 0.004193927193423922\n",
      "Miscellaneous_Info 2620 0.439523569870827\n"
     ]
    }
   ],
   "source": [
    "for f in features_with_null:\n",
    "    print(f,df[f].isnull().sum(),df[f].isnull().mean())"
   ]
  },
  {
   "cell_type": "markdown",
   "metadata": {},
   "source": [
    "In Rating 3302 (55%) values are null\n",
    "\n",
    "Place : 25 (0.4%) values are null\n",
    "\n",
    "Miscellaneous  : 2620 (43%) values are null"
   ]
  },
  {
   "cell_type": "code",
   "execution_count": 10,
   "metadata": {},
   "outputs": [],
   "source": [
    "df['Miscellaneous_Info'] = np.where(df['Miscellaneous_Info'].isnull(),'Missing_info',df['Miscellaneous_Info'])"
   ]
  },
  {
   "cell_type": "code",
   "execution_count": 11,
   "metadata": {},
   "outputs": [],
   "source": [
    "df['Rating'] = np.where(df['Rating'].isnull(),'Missing_Rating',df['Rating'])"
   ]
  },
  {
   "cell_type": "code",
   "execution_count": 12,
   "metadata": {},
   "outputs": [],
   "source": [
    "df['Place'] = np.where(df['Place'].isnull(),df['Place'].mode(),df['Place'])"
   ]
  },
  {
   "cell_type": "markdown",
   "metadata": {},
   "source": [
    "Replacing place with the mode\n",
    "\n",
    "And creating new categories in rating and miscellaneous info"
   ]
  },
  {
   "cell_type": "code",
   "execution_count": 13,
   "metadata": {},
   "outputs": [],
   "source": [
    "categorical_feat = df.drop('Fees',axis=1)"
   ]
  },
  {
   "cell_type": "markdown",
   "metadata": {},
   "source": [
    "sepearated categorical features"
   ]
  },
  {
   "cell_type": "code",
   "execution_count": 33,
   "metadata": {},
   "outputs": [
    {
     "name": "stdout",
     "output_type": "stream",
     "text": [
      "Qualification\n",
      "['BHMS, MD - Homeopathy' 'BAMS, MD - Ayurveda Medicine'\n",
      " 'MBBS, MS - Otorhinolaryngology' ...\n",
      " 'MD - Dermatology , Venereology & Leprosy, MBBS, Fellowship In Dermatosurgery'\n",
      " 'BDS, certification in smile designing'\n",
      " 'MD - Homeopathy, Post Graduate Diploma in Healthcare Management(PGDHM), DHMS (Diploma in Homeopathic Medicine and Surgery)']\n",
      "------------------------------------\n",
      "Experience\n",
      "['24 years experience' '12 years experience' '9 years experience'\n",
      " '20 years experience' '8 years experience' '42 years experience'\n",
      " '10 years experience' '14 years experience' '23 years experience'\n",
      " '5 years experience' '7 years experience' '21 years experience'\n",
      " '19 years experience' '41 years experience' '31 years experience'\n",
      " '25 years experience' '16 years experience' '15 years experience'\n",
      " '11 years experience' '22 years experience' '38 years experience'\n",
      " '6 years experience' '36 years experience' '13 years experience'\n",
      " '18 years experience' '46 years experience' '40 years experience'\n",
      " '49 years experience' '33 years experience' '0 years experience'\n",
      " '27 years experience' '30 years experience' '52 years experience'\n",
      " '60 years experience' '26 years experience' '35 years experience'\n",
      " '34 years experience' '39 years experience' '32 years experience'\n",
      " '17 years experience' '28 years experience' '58 years experience'\n",
      " '4 years experience' '45 years experience' '44 years experience'\n",
      " '3 years experience' '37 years experience' '50 years experience'\n",
      " '29 years experience' '43 years experience' '54 years experience'\n",
      " '66 years experience' '2 years experience' '51 years experience'\n",
      " '47 years experience' '48 years experience' '53 years experience'\n",
      " '56 years experience' '61 years experience' '59 years experience'\n",
      " '57 years experience' '55 years experience' '65 years experience'\n",
      " '64 years experience']\n",
      "------------------------------------\n",
      "Rating\n",
      "['100%' '98%' 'Missing_Rating' '99%' '79%' '95%' '97%' '94%' '88%' '90%'\n",
      " '80%' '93%' '36%' '78%' '87%' '96%' '82%' '89%' '74%' '86%' '92%' '83%'\n",
      " '76%' '85%' '56%' '91%' '68%' '60%' '75%' '69%' '73%' '67%' '77%' '33%'\n",
      " '55%' '71%' '84%' '45%' '63%' '72%' '81%' '62%' '57%' '7%' '48%' '40%'\n",
      " '70%' '64%' '65%' '47%' '58%' '53%']\n",
      "------------------------------------\n",
      "Place\n",
      "['Kakkanad, Ernakulam' 'Whitefield, Bangalore'\n",
      " 'Mathikere - BEL, Bangalore' 'Bannerghatta Road, Bangalore'\n",
      " 'Keelkattalai, Chennai' 'Porur, Chennai' 'Karol Bagh, Delhi'\n",
      " 'Arekere, Bangalore' 'Old City, Hyderabad' 'Athani, Ernakulam'\n",
      " 'Thousand Lights, Chennai' 'Somajiguda, Hyderabad'\n",
      " 'Coimbatore Racecourse, Coimbatore' 'Jubilee Hills, Hyderabad'\n",
      " 'Kondli, Delhi' 'Saroor Nagar, Hyderabad' 'Tambaram West, Chennai'\n",
      " 'Purasawakkam, Chennai' 'KPHB, Hyderabad' 'HSR Layout, Bangalore'\n",
      " 'Pollachi, Coimbatore' 'Vasundhra Enclave, Delhi' 'Chembur, Mumbai'\n",
      " 'Thammanam, Ernakulam' 'Andheri, Mumbai' 'Pattom, Thiruvananthapuram'\n",
      " 'Kukatpally, Hyderabad' 'Vadavalli, Coimbatore' 'Defence Colony, Delhi'\n",
      " 'Banjara Hills, Hyderabad' 'Sion West, Mumbai' 'CR Park, Delhi'\n",
      " 'Mogappair East, Chennai' 'IP Extension, Delhi'\n",
      " 'Safdarjung Enclave, Delhi' 'New Friends Colony, Delhi'\n",
      " 'Borivali West, Mumbai' 'Saket, Delhi' 'Malad, Mumbai'\n",
      " 'Hyder Nagar, Hyderabad' 'Dahisar West, Mumbai' 'RT Nagar, Bangalore'\n",
      " 'Powai, Mumbai' 'Basheerbagh, Hyderabad' 'Musheerabad, Hyderabad'\n",
      " 'AS Rao Nagar, Hyderabad' 'Madhapur, Hyderabad' 'Gandhinagar, Hyderabad'\n",
      " 'Chetpet, Chennai' 'Vileparle East, Mumbai'\n",
      " 'Yelahanka New Town, Bangalore' 'Kodambakkam, Chennai'\n",
      " 'Malleswaram, Bangalore' 'Pallikaranai, Chennai' 'Nallakunta, Hyderabad'\n",
      " 'Paschim Vihar, Delhi' 'Meera Bagh, Delhi' 'Chattarpur, Delhi'\n",
      " 'Andheri West, Mumbai' 'Himayat Nagar, Hyderabad' 'Adambakkam, Chennai'\n",
      " 'Punjabi Bagh, Delhi' 'Mahalaxmi, Mumbai' 'Kalina, Mumbai'\n",
      " 'Attapur, Hyderabad' 'Lakdikapul, Hyderabad' 'Ambattur, Chennai'\n",
      " 'Ramnagar, Coimbatore' 'Shalimar Bagh, Delhi' 'Nungambakkam, Chennai'\n",
      " 'Miyapur, Hyderabad' 'Sagarpur, Delhi' 'Girgaon, Mumbai'\n",
      " 'Jayanagar, Bangalore' 'Palayam, Thiruvananthapuram' 'Munirka, Delhi'\n",
      " 'Tuglakabad, Delhi' 'Moosarambagh, Hyderabad' 'Anna Nagar East, Chennai'\n",
      " 'Bandra West, Mumbai' 'Kanakpura Road, Bangalore' 'Green Park, Delhi'\n",
      " 'Maduravoyal, Chennai' 'Dahisar East, Mumbai' 'Moosapet, Hyderabad'\n",
      " 'Koramangala, Bangalore' 'TV Medical College, Thiruvananthapuram'\n",
      " 'Kadavanthra, Ernakulam' 'Greams Road, Chennai' 'Bommanahalli, Bangalore'\n",
      " 'T Nagar, Chennai' 'Yelahanka, Bangalore' 'Hazrat Nizamuddin, Delhi'\n",
      " 'Old Rajendra Nagar, Delhi' 'Dadar West, Mumbai' 'Indiranagar, Bangalore'\n",
      " 'Perumbakkam, Chennai' 'Shaikpet, Hyderabad' 'Vyttila, Ernakulam'\n",
      " 'Khar West, Mumbai' 'Goregaon West, Mumbai' 'Bakkarwala, Delhi'\n",
      " 'Nesapakkam, Chennai' 'BTM Layout 2nd Stage, Bangalore'\n",
      " 'Ashok Nagar, Chennai' 'Chandivali, Mumbai' 'Uttam Nagar, Delhi'\n",
      " 'Gujranwala Town, Delhi' 'Greater Kailash Part 1, Delhi'\n",
      " 'Panchsheel Park, Delhi' 'Thoraipakkam, Chennai'\n",
      " 'South Extension 2, Delhi' 'Kandivali East, Mumbai' 'Pitampura, Delhi'\n",
      " 'Banashankari 3rd Stage, Bangalore' 'Kolenchery, Ernakulam'\n",
      " 'Kumaraswamy Layout, Bangalore' 'Vadapalani, Chennai'\n",
      " 'Manikonda, Hyderabad' 'Gandhipuram, Coimbatore'\n",
      " 'Yeshwanthpur, Bangalore' 'Ayanavaram, Chennai'\n",
      " 'Basaveshwaranagar, Bangalore' 'Malad West, Mumbai' 'Vikas Puri, Delhi'\n",
      " 'Kondapur, Hyderabad' 'Andheri East, Mumbai' 'Sulur, Coimbatore'\n",
      " 'Adyar, Chennai' 'Krishna Nagar, Delhi' 'Langer House, Hyderabad'\n",
      " 'Thiruvanmiyur, Chennai' 'Dwarka, Delhi' 'Bhandup West, Mumbai'\n",
      " 'Janak Puri, Delhi' 'Rajajinagar, Bangalore' 'South Extension 1, Delhi'\n",
      " 'Kemps Corner, Mumbai' 'Peelamedu, Coimbatore' 'Kandivali West, Mumbai'\n",
      " 'Thevara, Ernakulam' 'Wilson Garden, Bangalore' 'Wadala, Mumbai'\n",
      " 'Pahar Ganj, Delhi' 'Chanchalguda, Hyderabad' 'Chikkadpally, Hyderabad'\n",
      " 'Pasur-avanashi, Coimbatore' 'Nagarbhavi, Bangalore'\n",
      " 'Lajpat Nagar, Delhi' 'Mayur Vihar Ph-I, Delhi' 'Dilshad Garden, Delhi'\n",
      " 'Vijayanagar, Bangalore' 'Alwarpet, Chennai'\n",
      " 'Pappanamcode, Thiruvananthapuram' 'Aluva, Ernakulam'\n",
      " 'Nariman Point, Mumbai' 'Kilkattalai, Chennai' 'Dilsukhnagar, Hyderabad'\n",
      " 'Kurla West, Mumbai' 'Begumpet, Hyderabad' 'Kaloor, Ernakulam'\n",
      " 'Hitech City, Hyderabad' 'Goregaon East, Mumbai'\n",
      " 'Velandipalayam, Coimbatore' 'Ghatkopar East, Mumbai'\n",
      " 'Mulund West, Mumbai' 'Yousufguda, Hyderabad' 'Ghatkopar West, Mumbai'\n",
      " 'TVM Beach, Thiruvananthapuram' 'Vanagaram, Chennai' 'Worli, Mumbai'\n",
      " 'Koramangala 1 Block, Bangalore' 'Saki Vihar Road, Mumbai'\n",
      " 'Versova, Mumbai' 'CV Raman Nagar, Bangalore' 'Secunderabad, Hyderabad'\n",
      " 'BTM Layout 1st Stage, Bangalore' 'Ramkoti, Hyderabad'\n",
      " 'MRC Nagar, Chennai' 'Malkajgiri, Hyderabad' 'Gachibowli, Hyderabad'\n",
      " 'Mogappair West, Chennai' 'Mayur Vihar Ph-III, Delhi'\n",
      " 'Kurla East, Mumbai' 'Ashok Vihar, Delhi' 'Mahim, Mumbai'\n",
      " 'Villivakkam, Chennai' 'Srinagar Colony, Hyderabad' 'Chromepet, Chennai'\n",
      " 'Pammal, Chennai' 'Banashankari, Bangalore' 'Velachery, Chennai'\n",
      " 'Chanakyapuri, Delhi' 'Kalyan Nagar, Bangalore' 'Oshiwara, Mumbai'\n",
      " 'Karapakkam, Chennai' 'Borivali, Mumbai' 'Mylapore, Chennai'\n",
      " 'Electronics City, Bangalore' 'Perungudi, Chennai'\n",
      " 'Basavanagudi, Bangalore' 'MG Road, Bangalore' 'Thiruvottiyur, Chennai'\n",
      " 'Greater Kailash Part 2, Delhi' 'Bilekahalli, Bangalore'\n",
      " 'Nanganallur, Chennai' 'Rohini, Delhi' 'Thrikkakara, Ernakulam'\n",
      " 'Manapakkam, Chennai' 'Bellandur, Bangalore' 'Ameerpet, Hyderabad'\n",
      " 'Thiruvallom, Thiruvananthapuram' 'R.S. Puram, Coimbatore'\n",
      " 'Kumarapuram, Thiruvananthapuram' 'Palam Colony, Delhi' 'Manali, Chennai'\n",
      " 'Valasaravakkam, Chennai' 'Barkatpura, Hyderabad'\n",
      " 'Singanallur, Coimbatore' 'Mulund, Mumbai' 'Dadar East, Mumbai'\n",
      " 'Borabanda, Hyderabad' 'Model Town 3, Delhi' 'Ulsoor, Bangalore'\n",
      " 'Bhayandar West, Mumbai' 'Hari Nagar, Delhi' 'Horamavu, Bangalore'\n",
      " 'Santacruz East, Mumbai' 'OMR Road, Chennai' 'Kammana Halli, Bangalore'\n",
      " 'Tilak Nagar, Delhi' 'Panathur, Bangalore'\n",
      " 'Rajarajeshwarinagar, Bangalore' 'Paravur, Ernakulam'\n",
      " 'Preet Vihar, Delhi' 'Chembur East, Mumbai' 'Jakkur, Bangalore'\n",
      " 'Vanasthalipuram, Hyderabad' 'Mandaveli, Chennai'\n",
      " 'Kumara Park West, Bangalore' 'Domlur, Bangalore'\n",
      " 'Jeevanbhimanagar, Bangalore' 'Santacruz West, Mumbai'\n",
      " 'Shankar Vihar, Delhi' 'Jogeshwari East, Mumbai'\n",
      " 'Kasavanahalli, Bangalore' 'Ambalamukku, Thiruvananthapuram'\n",
      " 'Jhilmil Colony, Delhi' 'Dwarka Sector 7, Delhi' 'Tatabad, Coimbatore'\n",
      " 'Marine Lines, Mumbai' 'Tolichowki, Hyderabad' 'Sundarapuram, Coimbatore'\n",
      " 'Kothanur, Bangalore' 'Chinmaya Nagar, Chennai' 'Vasant Vihar, Delhi'\n",
      " 'Mehdipatnam, Hyderabad' 'Kadugodi, Bangalore' 'Ganapathy, Coimbatore'\n",
      " 'SR Nagar, Hyderabad' 'Perambur, Chennai' 'Opera House, Mumbai'\n",
      " 'Selvapuram, Coimbatore' 'Karkardooma, Delhi' 'Alwarthirunagar, Chennai'\n",
      " 'KR Puram, Bangalore' 'Ramesh Nagar, Delhi' 'Malakpet, Hyderabad'\n",
      " 'Tondiarpet, Chennai' 'Vikrampuri Colony, Hyderabad'\n",
      " 'Besant Nagar, Chennai' 'Vasant Kunj, Delhi' 'Banaswadi, Bangalore'\n",
      " 'BTM Layout, Bangalore' 'Medavakkam, Chennai' 'Vileparle West, Mumbai'\n",
      " 'Sahakaranagar, Bangalore' 'LB Nagar, Hyderabad' 'Punjagutta, Hyderabad'\n",
      " 'Yamuna Vihar, Delhi' 'Marathahalli, Bangalore'\n",
      " 'JP Nagar 2 Phase, Bangalore' 'Rani Bagh, Delhi' 'Jayamahal, Bangalore'\n",
      " 'Nagpada, Mumbai' 'Kundalahalli, Bangalore' 'Kailash Colony, Delhi'\n",
      " 'Pandav Nagar, Delhi' 'Karkhana, Hyderabad' 'West Mambalam, Chennai'\n",
      " 'Aminjikarai, Chennai' 'Madipakkam, Chennai' 'Charkop, Mumbai'\n",
      " 'Adarsh Nagar, Delhi' 'Dadar, Mumbai' 'Kaggadasapura, Bangalore'\n",
      " 'Matunga, Mumbai' 'Sun city, Hyderabad' 'Mahadevapura, Bangalore'\n",
      " 'Kalady, Ernakulam' 'Anna Nagar West, Chennai' 'Mayur Vihar Ph-II, Delhi'\n",
      " 'Tis Hazari, Delhi' 'Vennala, Ernakulam' 'Mira Road, Mumbai'\n",
      " 'Alwal, Hyderabad' 'Trimulgherry, Hyderabad'\n",
      " 'Raja Annamalai Puram, Chennai' 'JP Nagar 7 Phase, Bangalore'\n",
      " 'Old Bowenpally, Hyderabad' 'Santosh Nagar, Hyderabad'\n",
      " 'Hope College, Coimbatore' 'Mulund East, Mumbai' 'Mount Road, Chennai'\n",
      " 'Patel Nagar West, Delhi' 'Jayanagar 4 Block, Bangalore'\n",
      " 'West Marredpally, Hyderabad' 'Jagriti Enclave, Delhi'\n",
      " 'Sarita Vihar, Delhi' 'Rajendra Nagar, Hyderabad'\n",
      " 'Thudiyalur, Coimbatore' 'Bhayandar East, Mumbai'\n",
      " 'Narayanguda, Hyderabad' 'Kothapet, Hyderabad' 'KK Nagar, Chennai'\n",
      " 'Tripunithura, Ernakulam' 'Model Town, Delhi'\n",
      " 'Suchitra Circle, Hyderabad' 'Pusa Road, Delhi'\n",
      " 'Vijaynagar Colony, Hyderabad' 'Alandur, Chennai' 'Cuffe Parade, Mumbai'\n",
      " 'Kalkaji, Delhi' 'Saibaba Colony, Coimbatore'\n",
      " 'Kattakada, Thiruvananthapuram' 'Jogeshwari West, Mumbai'\n",
      " 'Erragadda, Hyderabad' 'Tilak Nagar, Hyderabad' 'Edapally, Ernakulam'\n",
      " 'Patparganj, Delhi' 'Sainikpuri, Hyderabad' 'Nanjundapuram, Coimbatore'\n",
      " 'Nizampet, Hyderabad' 'Kolathur, Chennai' 'Chamarajpet, Bangalore'\n",
      " 'Kala Ghoda, Mumbai' 'Padmarao Nagar, Hyderabad' 'Uppal, Hyderabad'\n",
      " 'Guduvanchery, Chennai' 'Satya Niketan, Delhi' 'Chanda Nagar, Hyderabad'\n",
      " 'Sowripalayam, Coimbatore' 'Vikhroli West, Mumbai'\n",
      " 'Rajouri Garden, Delhi' 'Alaknanda, Delhi' 'Millers Road, Bangalore'\n",
      " 'Kandanchavadi, Chennai' 'Vigyan Vihar, Delhi' 'Bandra East, Mumbai'\n",
      " 'Vilankurichi, Coimbatore' 'Malad East, Mumbai' 'Prabhadevi, Mumbai'\n",
      " 'Ulloor, Thiruvananthapuram' 'Rajakilpakkam, Chennai'\n",
      " 'Greater Kailash, Delhi' 'Madinaguda, Hyderabad' 'Borivali East, Mumbai'\n",
      " 'Juhu, Mumbai' 'Mugalivakkam, Chennai' 'Hebbal, Bangalore'\n",
      " 'Kirti Nagar, Delhi' 'Balaramapuram, Thiruvananthapuram'\n",
      " 'Bhandup East, Mumbai' 'VV Puram, Bangalore' 'Kilpauk, Chennai'\n",
      " 'Jacob Circle, Mumbai' 'Singasandra, Bangalore' 'Khairatabad, Hyderabad'\n",
      " 'Coimbatore Aerodrome, Coimbatore' 'J.C Nagar, Bangalore'\n",
      " 'Naraina Vihar, Delhi' 'Virugambakkam, Chennai' 'RK Puram, Delhi'\n",
      " 'Banashankari 1st Stage, Bangalore' 'Lajpat Nagar 4, Delhi'\n",
      " 'Jayanagar 5 Block, Bangalore' 'Kalyanpuri, Hyderabad'\n",
      " 'Tambaram, Chennai' 'Laxmi Nagar, Delhi' 'Anand Vihar, Delhi'\n",
      " 'Charni Road, Mumbai' 'Patel Nagar East, Delhi'\n",
      " 'Jayanagar 9 Block, Bangalore' 'Ecil, Hyderabad'\n",
      " 'Ramamurthy Nagar, Bangalore' 'Raj Nagar - 2, Delhi'\n",
      " 'Chunabhatti, Mumbai' 'Vikhroli East, Mumbai' 'Shakarpur, Delhi'\n",
      " 'Shahdara, Delhi' 'Govandi, Mumbai' 'Mira Bhayandar, Mumbai'\n",
      " 'Doddanekundi, Bangalore' 'Madhu Vihar, Delhi' 'Guindy, Chennai'\n",
      " 'Palarivattom, Ernakulam' 'Charminar, Hyderabad'\n",
      " 'Old Airport Road, Bangalore' 'Sarjapur Road, Bangalore' 'Okhla, Delhi'\n",
      " 'Baghlingampally, Hyderabad' 'Trombay, Mumbai' 'HRBR Layout, Bangalore'\n",
      " 'Fort, Mumbai' 'Shastri Nagar, Delhi' 'Red Hills, Chennai'\n",
      " 'New BEL Road, Bangalore' 'Park Town, Chennai' 'Frazer Town, Bangalore'\n",
      " 'Falaknuma, Hyderabad' 'Rohini Sector 7, Delhi' 'East Of Kailash, Delhi'\n",
      " 'Chintadripet, Chennai' 'Tagore Garden, Delhi' 'Tri Nagar, Delhi'\n",
      " 'Muttada, Thiruvananthapuram' 'Munnekollal, Bangalore'\n",
      " 'TV Museum, Thiruvananthapuram' 'Shivalik, Delhi' 'Neb Sarai, Delhi'\n",
      " 'Mahalakshmi Layout, Bangalore' 'Mankhurd, Mumbai' 'Kamla Nagar, Delhi'\n",
      " 'Saravanampatti, Coimbatore' 'Selaiyur, Chennai' 'Saligramam, Chennai'\n",
      " 'Thirumullaivoyal, Chennai' 'Teynampet, Chennai' 'Kochi, Ernakulam'\n",
      " 'Vidyaranyapura, Bangalore' 'Mogappair, Chennai' 'Mazgaon, Mumbai'\n",
      " 'Shivaji Nagar, Bangalore' 'Jangpura, Delhi'\n",
      " 'Kaudiar Square, Thiruvananthapuram' 'Arumbakkam, Chennai'\n",
      " 'Cherai, Ernakulam' 'Mira-Bhayandar Road, Mumbai' 'Ram Nagar, Delhi'\n",
      " 'Parel, Mumbai' 'Thanisandra, Bangalore' 'Pragathi Nagar, Hyderabad'\n",
      " 'Karamana, Thiruvananthapuram' 'AECS Layout, Bangalore'\n",
      " 'Nizamuddin East, Delhi' 'Ramanathapuram, Coimbatore'\n",
      " 'Anna Nagar, Chennai' 'Shenoy Nagar, Chennai' 'Siddhapudur, Coimbatore'\n",
      " 'Keshav Puram, Delhi' 'Edakochi, Ernakulam' 'Nagawara, Bangalore'\n",
      " 'Chintal, Hyderabad' 'Malviya Nagar, Delhi' 'Karwan, Hyderabad'\n",
      " 'Vazhakulam, Ernakulam' 'PMG Jn, Thiruvananthapuram'\n",
      " 'Dwarka Sector 6, Delhi' 'Viveknagar, Bangalore' 'Balapur, Hyderabad'\n",
      " 'Banashankari 2nd Stage, Bangalore' 'Azadpur, Delhi' 'Moti Nagar, Delhi'\n",
      " 'Sakinaka, Mumbai' 'Thoppumpady, Ernakulam' 'Sanath Nagar, Hyderabad'\n",
      " 'Royapettah, Chennai' 'Koramangala 5 Block, Bangalore'\n",
      " 'Kanjurmarg, Mumbai' 'Ernakulam College, Ernakulam' 'Urapakkam, Chennai'\n",
      " 'Coimbatore Ukkadam, Coimbatore' 'Sreekaryam, Thiruvananthapuram'\n",
      " 'Ernakulam North, Ernakulam' 'Sultanpur, Delhi' 'Banerji Road, Ernakulam'\n",
      " 'Balkampet, Hyderabad' 'Kavundampalayam, Coimbatore'\n",
      " 'Kanchanbagh, Hyderabad' 'Patel Nagar, Delhi' 'Kilokri, Delhi'\n",
      " 'Hoodi, Bangalore' 'New Seemapuri, Delhi' 'Seshadripuram, Bangalore'\n",
      " 'Vijaynagar, Delhi' 'Bowenpally, Hyderabad' 'Ondipudur, Coimbatore'\n",
      " 'Triplicane, Chennai' 'Richmond Town, Bangalore'\n",
      " 'New Rajendra Nagar, Delhi' 'Jahangirpuri, Delhi' 'Vivek Vihar, Delhi'\n",
      " 'Malleshpalya, Bangalore' 'Pezhakkappilly, Ernakulam'\n",
      " 'Lingampally, Hyderabad' 'Jamia Nagar, Delhi' 'Begum Bazar, Hyderabad'\n",
      " 'Lower Parel, Mumbai' 'ECR Road, Chennai' 'Nangloi, Delhi'\n",
      " 'Chintalmet, Hyderabad' 'West Of Chord Road, Bangalore' 'SV Road, Mumbai'\n",
      " 'JP Nagar 5 Phase, Bangalore' 'Sanjay Nagar, Bangalore'\n",
      " 'Panampilly Nagar, Ernakulam' 'Dharavi, Mumbai' 'Abbigere, Bangalore'\n",
      " 'Manacaud, Thiruvananthapuram' 'Poonamalle, Chennai' 'Najafgarh, Delhi'\n",
      " 'Uttarahalli, Bangalore' 'Sembakkam, Chennai' 'Tarnaka, Hyderabad'\n",
      " 'Nandanam, Chennai' 'Saidapet, Chennai' 'Choolaimedu, Chennai'\n",
      " 'Perungalathur, Chennai' 'Gulabi Bagh, Delhi' 'Jasola, Delhi'\n",
      " 'JP Nagar 3 Phase, Bangalore' 'Uppilipalayam, Coimbatore'\n",
      " 'Sadashivanagar, Bangalore' 'Rohini Sector 24, Delhi'\n",
      " 'Muvattupuzha, Ernakulam' 'Khan Market, Delhi' 'Abids, Hyderabad'\n",
      " 'Geeta Colony, Delhi' 'Madandapuram, Chennai' 'Dwarka Sector 22, Delhi'\n",
      " 'Grant Road, Mumbai' 'Jeedimetla, Hyderabad' 'Tambaram East, Chennai'\n",
      " 'Kothaguda, Hyderabad' 'Hauz Khas, Delhi' 'Habsiguda, Hyderabad'\n",
      " 'Breach Candy, Mumbai' 'Vidyanagar, Bangalore' 'Begur, Bangalore'\n",
      " 'Dahisar, Mumbai' 'Pachalam, Ernakulam' 'Perumbavoor, Ernakulam'\n",
      " 'Avadi, Chennai' 'Coimbatore Central, Coimbatore' 'Lokhandwala, Mumbai'\n",
      " 'Tiruvottiyur, Chennai' 'Ullal Upanagara, Bangalore'\n",
      " 'Perurkada, Thiruvananthapuram' 'Ashok Vihar Phase 3, Delhi'\n",
      " 'Walkeshwar, Mumbai' 'Saidabad, Hyderabad'\n",
      " 'Koramangala 6 Block, Bangalore' 'New Ashok Nagar, Delhi'\n",
      " 'Peddar Road, Mumbai' 'Aya Nagar, Delhi' 'JP Nagar, Bangalore'\n",
      " 'Sasthamangalam, Thiruvananthapuram' 'Yakutpura, Hyderabad'\n",
      " 'Sampangiramnagar, Bangalore' 'Kasturi nagar, Bangalore'\n",
      " 'Pallavaram, Chennai' 'Moti Bagh, Delhi' 'Mukherjee Nagar, Delhi'\n",
      " 'Byculla, Mumbai' 'Peeragarhi, Delhi' 'Amberpet, Hyderabad'\n",
      " 'JP Nagar 6 Phase, Bangalore' 'Sholinganallur, Chennai'\n",
      " 'Langford Road, Bangalore' 'Cumballa Hill, Mumbai' 'Colaba, Mumbai'\n",
      " 'Qutab Institutional Area, Delhi' 'Dommasandra, Bangalore'\n",
      " 'Malabar Hill, Mumbai' 'Koramangala 8 Block, Bangalore'\n",
      " 'Rohini Sector 22, Delhi' 'Lothkunta, Hyderabad'\n",
      " 'HAL 2nd Stage, Bangalore' 'Jayanagar 7 Block, Bangalore'\n",
      " 'Vadasserikonam, Thiruvananthapuram' 'East Marredpally, Hyderabad'\n",
      " 'Kelambakkam, Chennai' 'Chinchpokli, Mumbai' 'Delhi Cantt, Delhi'\n",
      " 'Padmanabhanagar, Bangalore' 'Sheikh Sarai, Delhi'\n",
      " 'Washermenpet, Chennai' 'Konanakunte, Bangalore'\n",
      " 'Ashok Vihar Phase 1, Delhi' 'Thirumala, Thiruvananthapuram'\n",
      " 'Sarjapura, Bangalore' 'JP Nagar 1 Phase, Bangalore' 'JB Nagar, Mumbai'\n",
      " 'Paruthippara, Thiruvananthapuram' 'Vikhroli, Mumbai'\n",
      " 'JP Nagar 8 Phase, Bangalore' 'GTB Nagar, Delhi' 'Vidyanagar, Hyderabad'\n",
      " 'Masab Tank, Hyderabad' 'Hafeezpet, Hyderabad' 'Jeevan Park, Delhi'\n",
      " 'Dwarka Sector 5, Delhi' 'Civil Lines, Delhi' 'Anand Niketan, Delhi'\n",
      " 'Pappanaickenpalayam, Coimbatore' 'Koovappady, Ernakulam'\n",
      " 'Dwarka, Sector 5, Delhi' 'Srirampuram, Bangalore' 'Korattur, Chennai'\n",
      " 'Pappanaickenpudur, Coimbatore' 'Gandhi Nagar, Delhi'\n",
      " 'Vignan Nagar, Bangalore' 'Ganganagar, Bangalore' 'Elamakkara, Ernakulam'\n",
      " 'Boduppal, Hyderabad' 'Tilak Nagar, Mumbai' 'Khetwadi, Mumbai'\n",
      " 'Kengeri, Bangalore' 'Sion East, Mumbai' 'Rohini Sector 6, Delhi'\n",
      " 'Kazhakuttam, Thiruvananthapuram' 'Goregaon, Mumbai'\n",
      " 'Peroor, Thiruvananthapuram' 'New Thippasandra, Bangalore'\n",
      " 'Jalahalli, Bangalore' 'King Koti, Hyderabad'\n",
      " 'Kallambalam, Thiruvananthapuram' 'Dwarka Sector 13, Delhi'\n",
      " 'Residency Road, Bangalore' 'Radhakrishnan Salai, Chennai'\n",
      " 'Hulimavu, Bangalore' 'Dasarahalli, Bangalore' 'Vileparle, Mumbai'\n",
      " 'Delhi, Delhi' 'Kachiguda, Hyderabad' 'Venkitapuram, Coimbatore'\n",
      " 'Kuniamuthur, Coimbatore' 'TV Chalai, Thiruvananthapuram'\n",
      " 'Serilingampally, Hyderabad' 'RMV 2nd Stage, Bangalore'\n",
      " 'Champapet, Hyderabad' 'Surya Niketan, Delhi' 'Kovilpalayam, Coimbatore'\n",
      " 'Nampally, Hyderabad' 'Siddapura, Bangalore' 'Neredmet, Hyderabad'\n",
      " 'Vellakinar, Coimbatore' 'Egmore, Chennai' 'Katwaria Sarai, Delhi'\n",
      " 'Navalur, Chennai' 'Mehrauli, Delhi' 'HBR Layout, Bangalore'\n",
      " 'Subhash Nagar, Delhi' 'Mallepally, Hyderabad' 'Eroor South, Ernakulam'\n",
      " 'Lajpat Nagar III, Delhi' 'Kodungaiyur, Chennai'\n",
      " 'Kuppakonanpudur, Coimbatore' 'Paradise, Hyderabad'\n",
      " 'Rohini Sector 4, Delhi' 'Koramangala 4 Block, Bangalore'\n",
      " 'Dwarka Sector 3, Delhi' 'Durga Puri, Delhi' 'Kalamassery, Ernakulam'\n",
      " 'Gulmohar Park, Delhi' 'Adugodi, Bangalore' 'Moti Nagar, Hyderabad'\n",
      " 'Nallagandla, Hyderabad' 'Gowrivakkam, Chennai' 'Periyar Nagar, Chennai'\n",
      " 'Austin Town, Bangalore' 'Afzalgunj, Hyderabad'\n",
      " 'Cotton Hill, Thiruvananthapuram' 'Goldwins, Coimbatore'\n",
      " 'Kuravankonam, Thiruvananthapuram' 'Rohini Sector 3, Delhi'\n",
      " 'Lado Sarai, Delhi' 'Koramangala 2 Block, Bangalore' 'Madangir, Delhi'\n",
      " 'Marine Drive, Mumbai' 'Marine Drive, Ernakulam' 'Angamaly, Ernakulam'\n",
      " 'Neelankarai, Chennai' 'Churchgate, Mumbai' 'Kalapatti, Coimbatore'\n",
      " 'Nand Nagri, Delhi' 'Kandivali, Mumbai' 'Madanpura, Mumbai'\n",
      " 'Hegde Nagar, Bangalore' 'Domalguda, Hyderabad' 'Mumbai Central, Mumbai'\n",
      " 'Vasanthnagar, Bangalore' 'Kapashera, Delhi' 'August Kranti Marg, Delhi'\n",
      " 'Krishna Nagar, Hyderabad' 'Lal baug, Mumbai'\n",
      " 'Perumathura, Thiruvananthapuram' 'Molarband, Delhi' 'Piravom, Ernakulam'\n",
      " 'Neeti Bagh, Delhi' 'Kishanbagh, Hyderabad' 'Shantinagar, Bangalore'\n",
      " 'Poojapura, Thiruvananthapuram' 'Rathinapuri, Coimbatore'\n",
      " 'Model Town 1, Delhi' 'Koothattukulam, Ernakulam' 'Anand Lok, Delhi'\n",
      " 'Pappanaickenpalayam West, Coimbatore' 'Subzi Mandi, Delhi'\n",
      " 'Sion, Mumbai' 'Nagole, Hyderabad' 'TVM Pettah, Thiruvananthapuram'\n",
      " 'Changampuzha Nagar, Ernakulam' 'Puzhal, Chennai'\n",
      " 'Vanchiyur, Thiruvananthapuram' 'Sukh Vihar, Delhi'\n",
      " 'Kovalam, Thiruvananthapuram' 'Swasthya Vihar, Delhi' 'Tardeo, Mumbai'\n",
      " 'Vishnu Garden, Delhi' 'Jayanagar 1 Block, Bangalore'\n",
      " 'Sion Koliwada, Mumbai' 'Marol, Mumbai' 'Kalkere, Bangalore'\n",
      " 'Sindhi Colony, Hyderabad' 'Silampur, Delhi' 'Varthur, Bangalore'\n",
      " 'Model Town 2, Delhi' 'Surajmal Vihar, Delhi' 'Chandni Chowk, Delhi'\n",
      " 'Veerakeralam, Coimbatore' 'T Dasarahalli, Bangalore'\n",
      " 'Kaggalipura, Bangalore' 'Thonnakkal, Thiruvananthapuram'\n",
      " 'Manjapra, Ernakulam' 'Yellareddyguda, Hyderabad'\n",
      " 'Kovilambakkam, Chennai' 'Broadway, Chennai' 'Podanur, Coimbatore'\n",
      " 'Kompally, Hyderabad' 'Kottivakkam, Chennai' 'Mansarover Garden, Delhi'\n",
      " 'Mandapeshwar, Mumbai' 'Rohini Sector 15, Delhi' 'Vaduthala, Ernakulam'\n",
      " 'Hebbal Kempapura, Bangalore' 'Sithalapakkam, Chennai'\n",
      " 'MKB Nagar, Chennai' 'MG Road, Hyderabad' 'Darya Ganj, Delhi'\n",
      " 'Venjaramoodu, Thiruvananthapuram' 'Kotturpuram, Chennai'\n",
      " 'Ramapuram, Chennai' 'Karmanghat, Hyderabad' 'Moula Ali, Hyderabad'\n",
      " 'Netaji Nagar, Delhi' 'Chandra Layout, Bangalore'\n",
      " 'Akshaya nagar, Bangalore' 'Nirman Vihar, Delhi' 'Vasant Enclave, Delhi'\n",
      " 'St Thomas Mount, Chennai' 'Royapuram, Chennai' 'Abhiramapuram, Chennai'\n",
      " 'Inder Puri, Delhi' 'Edayarpalayam, Coimbatore' 'Deoli, Delhi'\n",
      " 'Mulanthuruthy, Ernakulam' 'Sukhdev Vihar, Delhi' 'e'\n",
      " 'Kothamangalam, Ernakulam' 'Harlur, Bangalore' 'Bolarum, Hyderabad'\n",
      " 'Richards Town, Bangalore' 'Narela, Delhi' 'Nehru Place, Delhi'\n",
      " 'Ramanthapur, Hyderabad' 'Bali Nagar, Delhi' 'Palavakkam, Chennai'\n",
      " 'Balanagar, Hyderabad' 'Hyderguda, Hyderabad' 'Cherannagar, Coimbatore'\n",
      " 'Rohini Sector 11, Delhi' 'Dwarka Sector 4, Delhi'\n",
      " 'Palluruthy, Ernakulam' 'Vizhinjam, Thiruvananthapuram'\n",
      " 'Santacruz, Mumbai' 'Ganesh Nagar, Delhi' 'Vengal Rao Nagar, Hyderabad'\n",
      " 'Deonar, Mumbai' 'Edapally North, Ernakulam' 'Red Hills, Hyderabad'\n",
      " 'IDA Jeedimetla, Hyderabad' 'Mettupalayam, Coimbatore'\n",
      " 'Hayathnagar, Hyderabad' 'Kakkanad West, Ernakulam'\n",
      " 'Khajaguda, Hyderabad' 'Rohini Sector 5, Delhi' 'Saraswati Vihar, Delhi'\n",
      " 'Kingsway Camp, Delhi' 'Ramamangalam, Ernakulam' 'Indirapuram, Delhi'\n",
      " 'Parassala, Thiruvananthapuram' 'Connaught Place, Delhi'\n",
      " 'Gottigerre, Bangalore' 'Shivrampally, Hyderabad' 'Vyasarpadi, Chennai'\n",
      " 'Kovaipudur, Coimbatore' 'Vallakkadavoo, Thiruvananthapuram'\n",
      " 'Kattupakkam, Chennai' 'Nellimoodu, Thiruvananthapuram'\n",
      " 'Pondy Bazaar, Chennai' 'Prashant Vihar, Delhi' 'Chullickal, Ernakulam'\n",
      " 'Murugeshpalya, Bangalore' 'Khanpur, Delhi' 'Madiwala, Bangalore'\n",
      " 'Dwarka Sector 23, Delhi' 'Badarpur, Delhi' 'Peyad, Thiruvananthapuram'\n",
      " 'Gandhi Nagar, Chennai' 'Uday Park, Delhi' 'Bandlaguda, Hyderabad'\n",
      " 'Karukappilli, Ernakulam' 'Rana Pratap Bagh, Delhi'\n",
      " 'Kochi M.G.Road, Ernakulam' 'Gopalapuram, Chennai'\n",
      " 'Puthenvelikkara, Ernakulam' 'Sowcarpet, Chennai' 'Chitlapakkam, Chennai'\n",
      " 'Malumichampatti, Coimbatore' 'Rohini Sector 8, Delhi'\n",
      " 'Rohini Sector 2, Delhi' 'Ram Nagar, Hyderabad' 'Dwarka Sector 10, Delhi'\n",
      " 'Agaram, Chennai' 'Poovachal, Thiruvananthapuram' 'Shanti Niketan, Delhi'\n",
      " 'Pothencode, Thiruvananthapuram' 'Dickenson Road, Bangalore'\n",
      " 'RTC X Road, Hyderabad' 'Film Nagar, Hyderabad' 'Lodhi Colony, Delhi'\n",
      " 'SG Palya (Kormangla), Bangalore' 'Palkulangara, Thiruvananthapuram'\n",
      " 'Mahalingapuram, Chennai' 'Matunga West, Mumbai' 'Nettoor, Ernakulam'\n",
      " 'Rani Khera, Delhi' 'Beeramguda, Hyderabad' 'Ramachandrapuram, Hyderabad'\n",
      " 'Neyyattinkara Town, Thiruvananthapuram' 'Gorai, Mumbai'\n",
      " 'Jayanagar 3 Block, Bangalore' 'Shakti Nagar, Delhi'\n",
      " 'Sangam Vihar, Delhi' 'Shakurpur, Delhi' 'Chaitanyapuri, Hyderabad'\n",
      " 'TVM Fort, Thiruvananthapuram' 'JP Nagar 4 Phase, Bangalore'\n",
      " 'Nayandahalli, Bangalore' 'Valiathura, Thiruvananthapuram'\n",
      " 'Kowdiar, Thiruvananthapuram' 'Cunningham Road, Bangalore'\n",
      " 'Hennur, Bangalore' 'Peenya, Bangalore' 'Pattimattam, Ernakulam'\n",
      " 'HAL, Bangalore']\n",
      "------------------------------------\n",
      "Profile\n",
      "['Homeopath' 'Ayurveda' 'ENT Specialist' 'Dentist' 'General Medicine'\n",
      " 'Dermatologists']\n",
      "------------------------------------\n",
      "Miscellaneous_Info\n",
      "['100% 16 Feedback Kakkanad, Ernakulam'\n",
      " '98% 76 Feedback Whitefield, Bangalore' 'Missing_info' ...\n",
      " '98% 45 Feedback Basavanagudi, Bangalore'\n",
      " '97% 11 Feedback Greater Kailash Part 2, Delhi'\n",
      " 'General Medical Consultation Viral Fever Treatment Infectious Disease Treatment']\n",
      "------------------------------------\n"
     ]
    }
   ],
   "source": [
    "for i in categorical_feat:\n",
    "    print(i)\n",
    "    print(df[i].unique())\n",
    "    print('------------------------------------')"
   ]
  },
  {
   "cell_type": "code",
   "execution_count": 50,
   "metadata": {},
   "outputs": [
    {
     "name": "stdout",
     "output_type": "stream",
     "text": [
      "Sum of the fees of docters in delhi 430050\n",
      "mean of fees 362.9113924050633\n",
      "number of docters in delhi 1185\n"
     ]
    }
   ],
   "source": [
    "sum_delhi=0\n",
    "count_d=0\n",
    "for i,j in zip(df['Place'],df['Fees']):\n",
    "    if('Delhi' in i):\n",
    "        sum_delhi = sum_delhi+j\n",
    "        count_d = count_d+1\n",
    "print('Sum of the fees of docters in delhi',sum_delhi)\n",
    "print('mean of fees',sum_delhi/count_d)\n",
    "print('number of docters in delhi',count_d)\n",
    "\n"
   ]
  },
  {
   "cell_type": "code",
   "execution_count": 52,
   "metadata": {},
   "outputs": [
    {
     "name": "stdout",
     "output_type": "stream",
     "text": [
      "Sum of the fees of docters in bangalore 416234\n",
      "mean of fees 324.4224473889322\n",
      "number of docters in bangalore 1283\n"
     ]
    }
   ],
   "source": [
    "sum_bangalore=0\n",
    "count_b=0\n",
    "for i,j in zip(df['Place'],df['Fees']):\n",
    "    if('Bangalore' in i):\n",
    "        sum_bangalore = sum_bangalore+j\n",
    "        count_b = count_b+1\n",
    "print('Sum of the fees of docters in bangalore',sum_bangalore)\n",
    "print('mean of fees',sum_bangalore/count_b)\n",
    "print('number of docters in bangalore',count_b)\n"
   ]
  },
  {
   "cell_type": "code",
   "execution_count": 53,
   "metadata": {},
   "outputs": [
    {
     "name": "stdout",
     "output_type": "stream",
     "text": [
      "Sum of the fees of docters in mumbai 375809\n",
      "mean of fees 308.29286300246105\n",
      "number of docters in mum 1219\n"
     ]
    }
   ],
   "source": [
    "sum_mum=0\n",
    "count_m=0\n",
    "for i,j in zip(df['Place'],df['Fees']):\n",
    "    if('Mumbai' in i):\n",
    "        sum_mum = sum_mum+j\n",
    "        count_m = count_m+1\n",
    "print('Sum of the fees of docters in mumbai',sum_mum)\n",
    "print('mean of fees',sum_mum/count_m)\n",
    "print('number of docters in mum',count_m)\n"
   ]
  },
  {
   "cell_type": "code",
   "execution_count": 55,
   "metadata": {},
   "outputs": [
    {
     "name": "stdout",
     "output_type": "stream",
     "text": [
      "Sum of the fees of docters inchennai  242480\n",
      "mean of fees 283.60233918128654\n",
      "number of docters in chennai 855\n"
     ]
    }
   ],
   "source": [
    "sum_chennai=0\n",
    "count_ch=0\n",
    "for i,j in zip(df['Place'],df['Fees']):\n",
    "    if('Chennai' in i):\n",
    "        sum_chennai = sum_chennai+j\n",
    "        count_ch = count_ch+1\n",
    "print('Sum of the fees of docters inchennai ',sum_chennai)\n",
    "print('mean of fees',sum_chennai/count_ch)\n",
    "print('number of docters in chennai',count_ch)\n"
   ]
  },
  {
   "cell_type": "code",
   "execution_count": 56,
   "metadata": {},
   "outputs": [
    {
     "name": "stdout",
     "output_type": "stream",
     "text": [
      "Sum of the fees of docters on Hyderabad 292440\n",
      "mean of fees 307.5078864353312\n",
      "number of docters in hyderabad 951\n"
     ]
    }
   ],
   "source": [
    "sum_hyd=0\n",
    "count_h=0\n",
    "for i,j in zip(df['Place'],df['Fees']):\n",
    "    if('Hyderabad' in i):\n",
    "        sum_hyd = sum_hyd+j\n",
    "        count_h = count_h+1\n",
    "print('Sum of the fees of docters on Hyderabad',sum_hyd)\n",
    "print('mean of fees',sum_hyd/count_h)\n",
    "print('number of docters in hyderabad',count_h)\n"
   ]
  },
  {
   "cell_type": "code",
   "execution_count": 58,
   "metadata": {},
   "outputs": [
    {
     "name": "stdout",
     "output_type": "stream",
     "text": [
      "Sum of the fees of docters in Ernakulam 28830\n",
      "mean of fees 188.4313725490196\n",
      "number of docters in  Ernakulam 153\n"
     ]
    }
   ],
   "source": [
    "sum_Ernakulam=0\n",
    "count_er=0\n",
    "for i,j in zip(df['Place'],df['Fees']):\n",
    "    if('Ernakulam' in i):\n",
    "        sum_Ernakulam = sum_Ernakulam+j\n",
    "        count_er = count_er+1\n",
    "print('Sum of the fees of docters in Ernakulam',sum_Ernakulam)\n",
    "print('mean of fees',sum_Ernakulam/count_er)\n",
    "print('number of docters in  Ernakulam',count_er)\n"
   ]
  },
  {
   "cell_type": "code",
   "execution_count": 59,
   "metadata": {},
   "outputs": [
    {
     "name": "stdout",
     "output_type": "stream",
     "text": [
      "Sum of the fees of docters in coimbatore  1821023\n",
      "mean of fees 310.01413006469187\n",
      "number of docters in coimbatore 5874\n"
     ]
    }
   ],
   "source": [
    "sum_coim=0\n",
    "count_c=0\n",
    "for i,j in zip(df['Place'],df['Fees']):\n",
    "    for k in cities:\n",
    "        if(k in i):\n",
    "            sum_coim = sum_coim+j\n",
    "            count_c = count_c+1\n",
    "print('Sum of the fees of docters in coimbatore ',sum_coim)\n",
    "print('mean of fees',sum_coim/count_c)\n",
    "print('number of docters in coimbatore',count_c)\n"
   ]
  },
  {
   "cell_type": "markdown",
   "metadata": {},
   "source": [
    "# Number of docters on the basis on cities and mean and sum of the feees"
   ]
  },
  {
   "cell_type": "raw",
   "metadata": {},
   "source": [
    "Sum of the fees of docters in coimbatore:1821023\n",
    "mean of fees 310.01413006469187\n",
    "number of docters in coimbatore 5874\n",
    ".............................................\n",
    "Sum of the fees of docters in Ernakulam 28830\n",
    "mean of fees 188.4313725490196\n",
    "number of docters in  Ernakulam 153\n",
    ".............................................\n",
    "Sum of the fees of docters in Hyderabad 292440\n",
    "mean of fees 307.5078864353312\n",
    "number of docters in hyderabad 951\n",
    ".............................................\n",
    "Sum of the fees of docters inchennai  242480\n",
    "mean of fees 283.60233918128654\n",
    "number of docters in chennai 855\n",
    ".............................................\n",
    "Sum of the fees of docters in mumbai 375809\n",
    "mean of fees 308.29286300246105\n",
    "number of docters in mum 1219\n",
    ".............................................\n",
    "Sum of the fees of docters in bangalore 416234\n",
    "mean of fees 324.4224473889322\n",
    "number of docters in bangalore 1283\n",
    "............................................\n",
    "Sum of the fees of docters in delhi 430050\n",
    "mean of fees 362.9113924050633\n",
    "number of docters in delhi 1185\n",
    "..............................................\n",
    "\n"
   ]
  },
  {
   "cell_type": "code",
   "execution_count": 81,
   "metadata": {},
   "outputs": [],
   "source": [
    "from sklearn.preprocessing import OrdinalEncoder\n",
    "ord_en = OrdinalEncoder()"
   ]
  },
  {
   "cell_type": "code",
   "execution_count": 83,
   "metadata": {},
   "outputs": [],
   "source": [
    "for i in df.columns:\n",
    "    if(i=='Fees'):\n",
    "        pass\n",
    "    else:\n",
    "        df[i] = ord_en.fit_transform(df[i].values.reshape(-1,1))"
   ]
  },
  {
   "cell_type": "markdown",
   "metadata": {},
   "source": [
    "# Univariate Analysis"
   ]
  },
  {
   "cell_type": "code",
   "execution_count": 229,
   "metadata": {},
   "outputs": [
    {
     "data": {
      "text/plain": [
       "<matplotlib.axes._subplots.AxesSubplot at 0x1f3074452e8>"
      ]
     },
     "execution_count": 229,
     "metadata": {},
     "output_type": "execute_result"
    },
    {
     "data": {
      "image/png": "[encoded data removed]",
      "text/plain": [
       "<Figure size 1008x576 with 1 Axes>"
      ]
     },
     "metadata": {
      "needs_background": "light"
     },
     "output_type": "display_data"
    }
   ],
   "source": [
    "plt.figure(figsize=(14,8))\n",
    "df__['Experience'].value_counts().plot()"
   ]
  },
  {
   "cell_type": "markdown",
   "metadata": {},
   "source": [
    "Most of the docters have 9 years of experience\n",
    "\n",
    "And least number have 66 years experience"
   ]
  },
  {
   "cell_type": "code",
   "execution_count": 198,
   "metadata": {},
   "outputs": [
    {
     "data": {
      "text/plain": [
       "<matplotlib.axes._subplots.AxesSubplot at 0x1f37ffd7d68>"
      ]
     },
     "execution_count": 198,
     "metadata": {},
     "output_type": "execute_result"
    },
    {
     "data": {
      "image/png": "[encoded data removed]",
      "text/plain": [
       "<Figure size 864x576 with 1 Axes>"
      ]
     },
     "metadata": {
      "needs_background": "light"
     },
     "output_type": "display_data"
    }
   ],
   "source": [
    "plt.figure(figsize=(12,8))\n",
    "df__['Rating'].value_counts().plot()"
   ]
  },
  {
   "cell_type": "markdown",
   "metadata": {},
   "source": [
    "Maximum docters got 100% ratings\n",
    "\n",
    "Minimum ratings are 48% "
   ]
  },
  {
   "cell_type": "code",
   "execution_count": 200,
   "metadata": {},
   "outputs": [
    {
     "data": {
      "text/plain": [
       "<matplotlib.axes._subplots.AxesSubplot at 0x1f37ff63f98>"
      ]
     },
     "execution_count": 200,
     "metadata": {},
     "output_type": "execute_result"
    },
    {
     "data": {
      "image/png": "[encoded data removed]",
      "text/plain": [
       "<Figure size 864x576 with 1 Axes>"
      ]
     },
     "metadata": {
      "needs_background": "light"
     },
     "output_type": "display_data"
    }
   ],
   "source": [
    "plt.figure(figsize=(12,8))\n",
    "sns.countplot(df__['Profile'])"
   ]
  },
  {
   "cell_type": "markdown",
   "metadata": {},
   "source": [
    "Most frequent profile is dentist\n",
    "\n",
    "And least profile is ENT"
   ]
  },
  {
   "cell_type": "code",
   "execution_count": 231,
   "metadata": {},
   "outputs": [
    {
     "data": {
      "text/plain": [
       "<matplotlib.axes._subplots.AxesSubplot at 0x1f307514e80>"
      ]
     },
     "execution_count": 231,
     "metadata": {},
     "output_type": "execute_result"
    },
    {
     "data": {
      "image/png": "[encoded data removed]",
      "text/plain": [
       "<Figure size 864x576 with 1 Axes>"
      ]
     },
     "metadata": {
      "needs_background": "light"
     },
     "output_type": "display_data"
    }
   ],
   "source": [
    "plt.figure(figsize=(12,8))\n",
    "sns.boxplot(x='Profile',y='Fees',data=df__)"
   ]
  },
  {
   "cell_type": "markdown",
   "metadata": {},
   "source": [
    "Outliers in the fees of profile: Ayurveda and Dentist"
   ]
  },
  {
   "cell_type": "markdown",
   "metadata": {},
   "source": [
    "# Bivariate Analysis"
   ]
  },
  {
   "cell_type": "code",
   "execution_count": 87,
   "metadata": {},
   "outputs": [
    {
     "data": {
      "image/png": "[encoded data removed]",
      "text/plain": [
       "<Figure size 432x288 with 1 Axes>"
      ]
     },
     "metadata": {
      "needs_background": "light"
     },
     "output_type": "display_data"
    },
    {
     "data": {
      "image/png": "[encoded data removed]",
      "text/plain": [
       "<Figure size 432x288 with 1 Axes>"
      ]
     },
     "metadata": {
      "needs_background": "light"
     },
     "output_type": "display_data"
    },
    {
     "data": {
      "image/png": "[encoded data removed]",
      "text/plain": [
       "<Figure size 432x288 with 1 Axes>"
      ]
     },
     "metadata": {
      "needs_background": "light"
     },
     "output_type": "display_data"
    },
    {
     "data": {
      "image/png": "[encoded data removed]",
      "text/plain": [
       "<Figure size 432x288 with 1 Axes>"
      ]
     },
     "metadata": {
      "needs_background": "light"
     },
     "output_type": "display_data"
    },
    {
     "data": {
      "image/png": "[encoded data removed]",
      "text/plain": [
       "<Figure size 432x288 with 1 Axes>"
      ]
     },
     "metadata": {
      "needs_background": "light"
     },
     "output_type": "display_data"
    },
    {
     "data": {
      "image/png": "[encoded data removed]",
      "text/plain": [
       "<Figure size 432x288 with 1 Axes>"
      ]
     },
     "metadata": {
      "needs_background": "light"
     },
     "output_type": "display_data"
    },
    {
     "data": {
      "image/png": "[encoded data removed]",
      "text/plain": [
       "<Figure size 432x288 with 1 Axes>"
      ]
     },
     "metadata": {
      "needs_background": "light"
     },
     "output_type": "display_data"
    }
   ],
   "source": [
    "for i in df.columns:\n",
    "    sns.scatterplot(x=i,y='Fees',data=df)\n",
    "    plt.show()"
   ]
  },
  {
   "cell_type": "markdown",
   "metadata": {},
   "source": [
    "Not any specific pattern can be seen in the scatter plot with the target variable"
   ]
  },
  {
   "cell_type": "code",
   "execution_count": 90,
   "metadata": {},
   "outputs": [
    {
     "data": {
      "text/plain": [
       "<matplotlib.axes._subplots.AxesSubplot at 0x1f37c928668>"
      ]
     },
     "execution_count": 90,
     "metadata": {},
     "output_type": "execute_result"
    },
    {
     "data": {
      "image/png": "[encoded data removed]",
      "text/plain": [
       "<Figure size 432x288 with 2 Axes>"
      ]
     },
     "metadata": {
      "needs_background": "light"
     },
     "output_type": "display_data"
    }
   ],
   "source": [
    "sns.heatmap(df.corr(),annot=True)"
   ]
  },
  {
   "cell_type": "markdown",
   "metadata": {},
   "source": [
    "Fees has strongest correlation with Qualification\n",
    "\n",
    "and least corrleation with Place"
   ]
  },
  {
   "cell_type": "code",
   "execution_count": 93,
   "metadata": {},
   "outputs": [],
   "source": [
    "from sklearn.preprocessing import StandardScaler"
   ]
  },
  {
   "cell_type": "code",
   "execution_count": 94,
   "metadata": {},
   "outputs": [],
   "source": [
    "scaler = StandardScaler()\n",
    "df_n = pd.DataFrame(scaler.fit_transform(df),columns=df.columns)"
   ]
  },
  {
   "cell_type": "markdown",
   "metadata": {},
   "source": [
    "Dataset after scaling"
   ]
  },
  {
   "cell_type": "code",
   "execution_count": 95,
   "metadata": {},
   "outputs": [
    {
     "data": {
      "text/html": [
       "<div>\n",
       "<style scoped>\n",
       "    .dataframe tbody tr th:only-of-type {\n",
       "        vertical-align: middle;\n",
       "    }\n",
       "\n",
       "    .dataframe tbody tr th {\n",
       "        vertical-align: top;\n",
       "    }\n",
       "\n",
       "    .dataframe thead th {\n",
       "        text-align: right;\n",
       "    }\n",
       "</style>\n",
       "<table border=\"1\" class=\"dataframe\">\n",
       "  <thead>\n",
       "    <tr style=\"text-align: right;\">\n",
       "      <th></th>\n",
       "      <th>Qualification</th>\n",
       "      <th>Experience</th>\n",
       "      <th>Rating</th>\n",
       "      <th>Place</th>\n",
       "      <th>Profile</th>\n",
       "      <th>Miscellaneous_Info</th>\n",
       "      <th>Fees</th>\n",
       "    </tr>\n",
       "  </thead>\n",
       "  <tbody>\n",
       "    <tr>\n",
       "      <th>0</th>\n",
       "      <td>-0.473306</td>\n",
       "      <td>-0.334883</td>\n",
       "      <td>-2.612465</td>\n",
       "      <td>-0.446253</td>\n",
       "      <td>1.543016</td>\n",
       "      <td>-2.329579</td>\n",
       "      <td>-1.089261</td>\n",
       "    </tr>\n",
       "    <tr>\n",
       "      <th>1</th>\n",
       "      <td>-1.265944</td>\n",
       "      <td>-0.955840</td>\n",
       "      <td>0.379506</td>\n",
       "      <td>1.746950</td>\n",
       "      <td>-1.472893</td>\n",
       "      <td>-0.683889</td>\n",
       "      <td>0.220295</td>\n",
       "    </tr>\n",
       "    <tr>\n",
       "      <th>2</th>\n",
       "      <td>1.300465</td>\n",
       "      <td>1.910118</td>\n",
       "      <td>0.501627</td>\n",
       "      <td>0.164904</td>\n",
       "      <td>0.336652</td>\n",
       "      <td>0.653553</td>\n",
       "      <td>-0.041616</td>\n",
       "    </tr>\n",
       "    <tr>\n",
       "      <th>3</th>\n",
       "      <td>-0.321061</td>\n",
       "      <td>-0.955840</td>\n",
       "      <td>0.501627</td>\n",
       "      <td>-1.339780</td>\n",
       "      <td>-1.472893</td>\n",
       "      <td>-0.336154</td>\n",
       "      <td>-0.303527</td>\n",
       "    </tr>\n",
       "    <tr>\n",
       "      <th>4</th>\n",
       "      <td>-1.418189</td>\n",
       "      <td>-0.525947</td>\n",
       "      <td>-2.612465</td>\n",
       "      <td>-0.299266</td>\n",
       "      <td>-1.472893</td>\n",
       "      <td>-2.172907</td>\n",
       "      <td>-0.303527</td>\n",
       "    </tr>\n",
       "  </tbody>\n",
       "</table>\n",
       "</div>"
      ],
      "text/plain": [
       "   Qualification  Experience    Rating     Place   Profile  \\\n",
       "0      -0.473306   -0.334883 -2.612465 -0.446253  1.543016   \n",
       "1      -1.265944   -0.955840  0.379506  1.746950 -1.472893   \n",
       "2       1.300465    1.910118  0.501627  0.164904  0.336652   \n",
       "3      -0.321061   -0.955840  0.501627 -1.339780 -1.472893   \n",
       "4      -1.418189   -0.525947 -2.612465 -0.299266 -1.472893   \n",
       "\n",
       "   Miscellaneous_Info      Fees  \n",
       "0           -2.329579 -1.089261  \n",
       "1           -0.683889  0.220295  \n",
       "2            0.653553 -0.041616  \n",
       "3           -0.336154 -0.303527  \n",
       "4           -2.172907 -0.303527  "
      ]
     },
     "execution_count": 95,
     "metadata": {},
     "output_type": "execute_result"
    }
   ],
   "source": [
    "df_n.head()"
   ]
  },
  {
   "cell_type": "code",
   "execution_count": 96,
   "metadata": {},
   "outputs": [],
   "source": [
    "from sklearn.model_selection import train_test_split\n",
    "from sklearn.linear_model import LinearRegression\n",
    "lr = LinearRegression()"
   ]
  },
  {
   "cell_type": "code",
   "execution_count": 97,
   "metadata": {},
   "outputs": [],
   "source": [
    "from sklearn.metrics import r2_score\n",
    "from sklearn.metrics import mean_squared_error"
   ]
  },
  {
   "cell_type": "markdown",
   "metadata": {},
   "source": [
    "Separating target variable"
   ]
  },
  {
   "cell_type": "code",
   "execution_count": 98,
   "metadata": {},
   "outputs": [],
   "source": [
    "x = df_n.drop('Fees',axis=1)\n",
    "y = df_n['Fees']"
   ]
  },
  {
   "cell_type": "code",
   "execution_count": 99,
   "metadata": {},
   "outputs": [],
   "source": [
    "x_train,x_test,y_train,y_test = train_test_split(x,y,test_size=.33,random_state=5)"
   ]
  },
  {
   "cell_type": "code",
   "execution_count": 100,
   "metadata": {},
   "outputs": [
    {
     "data": {
      "text/plain": [
       "0.9290002125099674"
      ]
     },
     "execution_count": 100,
     "metadata": {},
     "output_type": "execute_result"
    }
   ],
   "source": [
    "lr.fit(x_train,y_train)\n",
    "pred = lr.predict(x_test)\n",
    "mean_squared_error(y_test,pred)"
   ]
  },
  {
   "cell_type": "markdown",
   "metadata": {},
   "source": [
    "Basic model is giving mse = 0.9\n",
    "\n",
    "Finding best random_state"
   ]
  },
  {
   "cell_type": "code",
   "execution_count": 106,
   "metadata": {},
   "outputs": [
    {
     "name": "stdout",
     "output_type": "stream",
     "text": [
      "random state 30\n",
      "test mse 0.9111215929392253\n",
      "train mse 0.9110241459446916\n",
      "random state 65\n",
      "test mse 0.910553449828622\n",
      "train mse 0.911416442510799\n",
      "random state 128\n",
      "test mse 0.911367952330882\n",
      "train mse 0.9108919752686871\n",
      "random state 143\n",
      "test mse 0.9108049315719099\n",
      "train mse 0.9111886608465316\n",
      "random state 212\n",
      "test mse 0.9111025977629799\n",
      "train mse 0.9113557176285875\n",
      "random state 375\n",
      "test mse 0.9110227873092818\n",
      "train mse 0.9112656191137081\n",
      "random state 388\n",
      "test mse 0.911202426873905\n",
      "train mse 0.9113307397426689\n",
      "random state 391\n",
      "test mse 0.9115951567605793\n",
      "train mse 0.9116069786065274\n",
      "random state 422\n",
      "test mse 0.9107370609564505\n",
      "train mse 0.9113282703661743\n",
      "random state 434\n",
      "test mse 0.9107537333735483\n",
      "train mse 0.9110652813976551\n",
      "random state 437\n",
      "test mse 0.9111448527502148\n",
      "train mse 0.9113785954747268\n",
      "random state 482\n",
      "test mse 0.9119485620691594\n",
      "train mse 0.9118569967492383\n",
      "random state 753\n",
      "test mse 0.9112060817732637\n",
      "train mse 0.9109424886847043\n",
      "random state 809\n",
      "test mse 0.9119758719441539\n",
      "train mse 0.9119552737100962\n",
      "random state 972\n",
      "test mse 0.9118663056248393\n",
      "train mse 0.9116260624269852\n"
     ]
    }
   ],
   "source": [
    "for i in range(1,1000):\n",
    "    x_train,x_test,y_train,y_test = train_test_split(x,y,test_size=.33,random_state=i)\n",
    "    lr =  LinearRegression()\n",
    "    lr.fit(x_train,y_train)\n",
    "    pred_test = lr.predict(x_test)\n",
    "    pred_train = lr.predict(x_train)\n",
    "    if(round(mean_squared_error(pred_test,y_test)*100,1)==round(mean_squared_error(pred_train,y_train)*100,1)):\n",
    "        print('random state',i)\n",
    "        print('test mse',mean_squared_error(pred_test,y_test))\n",
    "        print('train mse',mean_squared_error(pred_train,y_train))"
   ]
  },
  {
   "cell_type": "code",
   "execution_count": 108,
   "metadata": {},
   "outputs": [],
   "source": [
    " x_train,x_test,y_train,y_test = train_test_split(x,y,test_size=.33,random_state=30)"
   ]
  },
  {
   "cell_type": "code",
   "execution_count": 109,
   "metadata": {},
   "outputs": [],
   "source": [
    "from sklearn.linear_model import LinearRegression\n",
    "from sklearn.svm import SVR\n",
    "from sklearn.tree import DecisionTreeRegressor\n",
    "from sklearn.neighbors import KNeighborsRegressor"
   ]
  },
  {
   "cell_type": "code",
   "execution_count": 113,
   "metadata": {},
   "outputs": [
    {
     "name": "stdout",
     "output_type": "stream",
     "text": [
      "<class 'sklearn.linear_model._base.LinearRegression'> r2_score 0.09862299732056856\n",
      "mean squared error 0.9111215929392253\n",
      "rms 0.9545268948223645\n",
      "------------------------------------------------------------------------\n",
      "<class 'sklearn.svm._classes.SVR'> r2_score 0.09624791724342485\n",
      "mean squared error 0.9135223494892735\n",
      "rms 0.9557836311055309\n",
      "------------------------------------------------------------------------\n",
      "<class 'sklearn.neighbors._regression.KNeighborsRegressor'> r2_score 0.02411712414403011\n",
      "mean squared error 0.9864329328670737\n",
      "rms 0.9931933008569247\n",
      "------------------------------------------------------------------------\n"
     ]
    }
   ],
   "source": [
    "list_algo = [LinearRegression,SVR,KNeighborsRegressor]\n",
    "for i in list_algo:\n",
    "    obj = i()\n",
    "    obj.fit(x_train,y_train)\n",
    "    pred = obj.predict(x_test)\n",
    "    print(i,'r2_score',r2_score(y_test,pred))\n",
    "    print('mean squared error',mean_squared_error(y_test,pred))\n",
    "    print('rms',np.sqrt(mean_squared_error(y_test,pred)))\n",
    "    print('------------------------------------------------------------------------')"
   ]
  },
  {
   "cell_type": "markdown",
   "metadata": {},
   "source": [
    "Here linear regression is giving best result , moving for the cross_val score"
   ]
  },
  {
   "cell_type": "code",
   "execution_count": 114,
   "metadata": {},
   "outputs": [
    {
     "name": "stdout",
     "output_type": "stream",
     "text": [
      "cross score 0.08611648320854745\n",
      "<class 'sklearn.linear_model._base.LinearRegression'> r2_score 0.09862299732056856\n",
      "mean squared error 0.9111215929392253\n",
      "rms 0.9545268948223645\n",
      "---------\n",
      "cross score 0.0896927447414606\n",
      "<class 'sklearn.svm._classes.SVR'> r2_score 0.09624791724342485\n",
      "mean squared error 0.9135223494892735\n",
      "rms 0.9557836311055309\n",
      "---------\n",
      "cross score 0.015022793227282416\n",
      "<class 'sklearn.neighbors._regression.KNeighborsRegressor'> r2_score 0.02411712414403011\n",
      "mean squared error 0.9864329328670737\n",
      "rms 0.9931933008569247\n",
      "---------\n"
     ]
    }
   ],
   "source": [
    "from sklearn.model_selection import cross_val_score\n",
    "for i in list_algo:\n",
    "    obj = i()\n",
    "    obj.fit(x_train,y_train)\n",
    "    pred = obj.predict(x_test)\n",
    "    cross_score = cross_val_score(obj,x,y,cv=5)\n",
    "    print('cross score',cross_score.mean())\n",
    "    print(i,'r2_score',r2_score(y_test,pred))\n",
    "    print('mean squared error',mean_squared_error(y_test,pred))\n",
    "    print('rms',np.sqrt(mean_squared_error(y_test,pred)))\n",
    "    print('---------')"
   ]
  },
  {
   "cell_type": "markdown",
   "metadata": {},
   "source": [
    "SVR is giving best result\n",
    "\n",
    "For best kernel:"
   ]
  },
  {
   "cell_type": "code",
   "execution_count": 120,
   "metadata": {},
   "outputs": [
    {
     "name": "stdout",
     "output_type": "stream",
     "text": [
      "poly\n",
      "mse 0.9691144521375448\n",
      "0.041250380969374056\n",
      "rbf\n",
      "mse 0.9135223494892735\n",
      "0.09624791724342485\n",
      "linear\n",
      "mse 0.9477417448189054\n",
      "0.06239450378603628\n"
     ]
    }
   ],
   "source": [
    "kernel_svm = ['poly','rbf','linear']\n",
    "for i in kernel_svm:\n",
    "    obj_ = SVR(kernel=i)\n",
    "    obj_.fit(x_train,y_train)\n",
    "    p = obj_.predict(x_test)\n",
    "    print(i)\n",
    "    print('mse',mean_squared_error(y_test,p))\n",
    "    print(r2_score(y_test,p))"
   ]
  },
  {
   "cell_type": "markdown",
   "metadata": {},
   "source": [
    "Rbf is giving best result"
   ]
  },
  {
   "cell_type": "markdown",
   "metadata": {},
   "source": [
    "Ensemble technique"
   ]
  },
  {
   "cell_type": "code",
   "execution_count": 118,
   "metadata": {},
   "outputs": [],
   "source": [
    "from sklearn.ensemble import RandomForestRegressor"
   ]
  },
  {
   "cell_type": "code",
   "execution_count": 119,
   "metadata": {},
   "outputs": [],
   "source": [
    "random_obj = RandomForestRegressor(n_estimators=100,random_state=42)"
   ]
  },
  {
   "cell_type": "code",
   "execution_count": 123,
   "metadata": {},
   "outputs": [
    {
     "data": {
      "text/plain": [
       "0.8503091091538093"
      ]
     },
     "execution_count": 123,
     "metadata": {},
     "output_type": "execute_result"
    }
   ],
   "source": [
    "random_obj.fit(x_train,y_train)\n",
    "p_rf = random_obj.predict(x_test)\n",
    "mean_squared_error(y_test,p_rf)"
   ]
  },
  {
   "cell_type": "code",
   "execution_count": 125,
   "metadata": {},
   "outputs": [],
   "source": [
    "hyper_para = {\n",
    "    'n_estimators':[100,200,300,500],\n",
    "    'max_depth':[10,20,50],\n",
    "    'min_samples_leaf':[1,2,5,3]\n",
    "}"
   ]
  },
  {
   "cell_type": "markdown",
   "metadata": {},
   "source": [
    "Hyper parametric tuning"
   ]
  },
  {
   "cell_type": "code",
   "execution_count": 126,
   "metadata": {},
   "outputs": [],
   "source": [
    "from sklearn.model_selection import GridSearchCV"
   ]
  },
  {
   "cell_type": "code",
   "execution_count": 127,
   "metadata": {},
   "outputs": [],
   "source": [
    "rfr_obj  = RandomForestRegressor()\n",
    "grids_ob = GridSearchCV(estimator=rfr_obj,param_grid=hyper_para,cv=5)"
   ]
  },
  {
   "cell_type": "code",
   "execution_count": 128,
   "metadata": {},
   "outputs": [
    {
     "data": {
      "text/plain": [
       "GridSearchCV(cv=5, estimator=RandomForestRegressor(),\n",
       "             param_grid={'max_depth': [10, 20, 50],\n",
       "                         'min_samples_leaf': [1, 2, 5, 3],\n",
       "                         'n_estimators': [100, 200, 300, 500]})"
      ]
     },
     "execution_count": 128,
     "metadata": {},
     "output_type": "execute_result"
    }
   ],
   "source": [
    "grids_ob.fit(x_train,y_train)"
   ]
  },
  {
   "cell_type": "code",
   "execution_count": 130,
   "metadata": {},
   "outputs": [
    {
     "name": "stdout",
     "output_type": "stream",
     "text": [
      "{'max_depth': 10, 'min_samples_leaf': 2, 'n_estimators': 200}\n",
      "0.1624538991033589\n"
     ]
    }
   ],
   "source": [
    "best_parameters = grids_ob.best_params_\n",
    "best_score = grids_ob.best_score_\n",
    "print(best_parameters)\n",
    "print(best_score)"
   ]
  },
  {
   "cell_type": "code",
   "execution_count": 206,
   "metadata": {},
   "outputs": [],
   "source": [
    "pred_gridcv = grids_ob.predict(x_test)"
   ]
  },
  {
   "cell_type": "markdown",
   "metadata": {},
   "source": [
    "Result of final model"
   ]
  },
  {
   "cell_type": "code",
   "execution_count": 207,
   "metadata": {},
   "outputs": [
    {
     "name": "stdout",
     "output_type": "stream",
     "text": [
      "rscore 0.1950213180185062\n",
      "mse 0.813681131012766\n",
      "root mse 0.9020427545370374\n"
     ]
    }
   ],
   "source": [
    "print('rscore',r2_score(y_test,pred_gridcv))\n",
    "print('mse',mean_squared_error(y_test,pred_gridcv))\n",
    "print('root mse',np.sqrt(mean_squared_error(y_test,pred_gridcv)))\n"
   ]
  },
  {
   "cell_type": "markdown",
   "metadata": {},
   "source": [
    "Saving best model : randomforestregressor after hyper parametric tuning"
   ]
  },
  {
   "cell_type": "code",
   "execution_count": 211,
   "metadata": {},
   "outputs": [],
   "source": [
    "import pickle"
   ]
  },
  {
   "cell_type": "code",
   "execution_count": 215,
   "metadata": {},
   "outputs": [],
   "source": [
    "fees = 'fee.pkl'\n",
    "pickle.dump(grids_ob,open(fees,'wb'))"
   ]
  },
  {
   "cell_type": "code",
   "execution_count": 219,
   "metadata": {},
   "outputs": [
    {
     "data": {
      "text/plain": [
       "Text(0.5, 1.0, 'Grid search')"
      ]
     },
     "execution_count": 219,
     "metadata": {},
     "output_type": "execute_result"
    },
    {
     "data": {
      "image/png": "[encoded data removed]",
      "text/plain": [
       "<Figure size 432x288 with 1 Axes>"
      ]
     },
     "metadata": {
      "needs_background": "light"
     },
     "output_type": "display_data"
    }
   ],
   "source": [
    "plt.scatter(x=y_test,y=pred_gridcv,color='b')\n",
    "plt.plot(y_test,pred_gridcv,color='r')\n",
    "plt.xlabel('Actual values')\n",
    "plt.ylabel('predicted values')\n",
    "plt.title('Grid search')"
   ]
  },
  {
   "cell_type": "markdown",
   "metadata": {},
   "source": [
    "# Importing test data"
   ]
  },
  {
   "cell_type": "code",
   "execution_count": 134,
   "metadata": {},
   "outputs": [],
   "source": [
    "d_test = pd.read_excel('C:/Users/Aayushi Lashkari/Downloads/Doctor_fee_consultation (1)/Final Participant Data Folder/Final_Test.xlsx')"
   ]
  },
  {
   "cell_type": "code",
   "execution_count": 135,
   "metadata": {},
   "outputs": [],
   "source": [
    "df_test = pd.DataFrame(d_test)"
   ]
  },
  {
   "cell_type": "code",
   "execution_count": 136,
   "metadata": {},
   "outputs": [
    {
     "data": {
      "text/plain": [
       "(1987, 6)"
      ]
     },
     "execution_count": 136,
     "metadata": {},
     "output_type": "execute_result"
    }
   ],
   "source": [
    "df_test.shape"
   ]
  },
  {
   "cell_type": "code",
   "execution_count": 137,
   "metadata": {},
   "outputs": [
    {
     "name": "stdout",
     "output_type": "stream",
     "text": [
      "<class 'pandas.core.frame.DataFrame'>\n",
      "RangeIndex: 1987 entries, 0 to 1986\n",
      "Data columns (total 6 columns):\n",
      " #   Column              Non-Null Count  Dtype \n",
      "---  ------              --------------  ----- \n",
      " 0   Qualification       1987 non-null   object\n",
      " 1   Experience          1987 non-null   object\n",
      " 2   Rating              897 non-null    object\n",
      " 3   Place               1981 non-null   object\n",
      " 4   Profile             1987 non-null   object\n",
      " 5   Miscellaneous_Info  1153 non-null   object\n",
      "dtypes: object(6)\n",
      "memory usage: 93.3+ KB\n"
     ]
    }
   ],
   "source": [
    "df_test.info()"
   ]
  },
  {
   "cell_type": "markdown",
   "metadata": {},
   "source": [
    "Total rows are 1987\n",
    "\n",
    "Null values are there in place,rating and miscellanous info column"
   ]
  },
  {
   "cell_type": "code",
   "execution_count": 138,
   "metadata": {},
   "outputs": [
    {
     "data": {
      "text/plain": [
       "<matplotlib.axes._subplots.AxesSubplot at 0x1f37a241b70>"
      ]
     },
     "execution_count": 138,
     "metadata": {},
     "output_type": "execute_result"
    },
    {
     "data": {
      "image/png": "[encoded data removed]",
      "text/plain": [
       "<Figure size 432x288 with 2 Axes>"
      ]
     },
     "metadata": {
      "needs_background": "light"
     },
     "output_type": "display_data"
    }
   ],
   "source": [
    "sns.heatmap(df_test.isnull())"
   ]
  },
  {
   "cell_type": "code",
   "execution_count": 140,
   "metadata": {},
   "outputs": [
    {
     "name": "stdout",
     "output_type": "stream",
     "text": [
      "Qualification 0.0\n",
      "Experience 0.0\n",
      "Rating 0.548565676899849\n",
      "Place 0.003019627579265224\n",
      "Profile 0.0\n",
      "Miscellaneous_Info 0.41972823351786614\n"
     ]
    }
   ],
   "source": [
    "for i in df_test.columns:\n",
    "    print(i,df_test[i].isnull().mean())"
   ]
  },
  {
   "cell_type": "markdown",
   "metadata": {},
   "source": [
    "54% values are null in rating \n",
    "\n",
    "41 % null in miscellaneous \n",
    "\n",
    "0.3% null in place"
   ]
  },
  {
   "cell_type": "code",
   "execution_count": 150,
   "metadata": {},
   "outputs": [
    {
     "data": {
      "text/plain": [
       "<matplotlib.axes._subplots.AxesSubplot at 0x1f37dee7748>"
      ]
     },
     "execution_count": 150,
     "metadata": {},
     "output_type": "execute_result"
    },
    {
     "data": {
      "image/png": "[encoded data removed]",
      "text/plain": [
       "<Figure size 720x576 with 1 Axes>"
      ]
     },
     "metadata": {
      "needs_background": "light"
     },
     "output_type": "display_data"
    }
   ],
   "source": [
    "plt.figure(figsize=(10,8))\n",
    "df_test['Rating'].value_counts().plot()"
   ]
  },
  {
   "cell_type": "markdown",
   "metadata": {},
   "source": [
    "100% rating is given to most of the docters \n",
    "\n",
    "97 to 78% is the least rating given"
   ]
  },
  {
   "cell_type": "code",
   "execution_count": 146,
   "metadata": {},
   "outputs": [
    {
     "data": {
      "text/plain": [
       "array(['MBBS', 'MBBS, Diploma in Otorhinolaryngology (DLO)', 'MBBS, DDVL',\n",
       "       'BAMS', 'BDS, MDS - Conservative Dentistry & Endodontics',\n",
       "       'BDS, MDS', 'BDS, MDS - Pedodontics',\n",
       "       'MD - Ayurveda Medicine, BAMS, Yoga Teachers Training Course, M. D. IN KAYACHIKISTA',\n",
       "       'BHMS', 'BDS', 'MBBS, FCD - Diabetology', 'MBBS, DDV',\n",
       "       'MBBS, MD - Dermatology', 'MS - ENT',\n",
       "       'MBBS, Diploma in Otorhinolaryngology (DLO), MS - ENT, DNB - ENT, MNAMS (Membership of the National Academy)',\n",
       "       'BHMS, Diploma in Naturopathy & Yogic Science (DNYS), Diploma in Diet and Nutrition, Diploma in Cosmetology',\n",
       "       'MBBS, PG Diploma In Clinical Cosmetology (PGDCC)',\n",
       "       'BDS, MDS - Periodontics', 'BDS, MDS- Oral Pathology',\n",
       "       'MBBS, MD - General Medicine', 'MS - ENT, MBBS',\n",
       "       'MBBS, Diploma in Otorhinolaryngology (DLO), DNB - ENT',\n",
       "       'MBBS, MS - ENT, DNB - Otorhinolaryngology',\n",
       "       'BDS, PhD - Endodontics, MDS - Conservative Dentistry & Endodontics',\n",
       "       'BSc, LCEH', 'BAMS, MD - Ayurveda Medicine',\n",
       "       'MBBS, DGO, MD - Obstetrics & Gynaecology',\n",
       "       'BHMS, MD - Homeopathy', 'BHMS, DM - Oncology',\n",
       "       'MBBS, DNB - Dermatology, Venereology & Leprosy, DVD',\n",
       "       'MBBS, MS - Otorhinolaryngology',\n",
       "       'Fellowship in Aesthetic Medicine, MD - Dermatology',\n",
       "       'BDS, Fellowship in Oral implantlogy',\n",
       "       'MBBS, MD - Dermatology, Fellowship in Aesthetic Medicine',\n",
       "       'MBBS, MS - Ophthalmology',\n",
       "       'MDS - Conservative Dentistry & Endodontics, BDS',\n",
       "       'MBBS, MS - Otorhinolaryngology, Diploma in Otorhinolaryngology (DLO)',\n",
       "       'BAMS, PGCR',\n",
       "       'BHMS, MS - Counselling and Psychotherapy, Certificate Course in Advanced Homoeopathy (C.C.A.H)',\n",
       "       'MBBS, MS - ENT, Diploma in Otorhinolaryngology (DLO)',\n",
       "       'MBBS, FRCS - Otolaryngology, Diploma in Otorhinolaryngology (DLO), Diploma in Acupuncture',\n",
       "       'MBBS, MD - Medicine, DM - Cardiology',\n",
       "       'BDS, Post-Graduate Certificate in Oral Implantology (PGCOI), MDS - Periodontology and Oral Implantology',\n",
       "       'LCEH', 'MBBS, MS - ENT', 'MBBS, MD - Medicine',\n",
       "       'DM - Nephrology, MD - Internal Medicine, MBBS',\n",
       "       'MBBS, DDVL, FRGUHS',\n",
       "       'MBBS, Diploma in Otorhinolaryngology (DLO), FRCS - General Surgery',\n",
       "       'BDS, MDS - Oral & Maxillofacial Surgery, Fellowship in Cleft Lip & Palate, Fellowship in TMJ Surgery',\n",
       "       'MBBS, DNB - Otorhinolaryngology',\n",
       "       'Post Graduate Diploma in Diabetology (PGDD)(Madras Medical College), MBBS',\n",
       "       'Certificate in Dental Implants, MDS - Oral Medicine and Radiology, Certification in Aesthetic Dentistry, Certification in Full Mouth Rehabilitation, BDS',\n",
       "       'BDS, MDS - Orthodontics and Dentofacial Orthopaedics',\n",
       "       'MBBS, MD - Internal Medicine',\n",
       "       'MBBS, MD - General Medicine, DNB - General Medicine, Fellowship in Diabetology, DAA - Diploma in Allergy Asthma and Immunology, Certificate in Pulmonology',\n",
       "       'MD - Tuberculosis & Respiratory Diseases/Medicine, MBBS',\n",
       "       'MBBS, DDV, MD - Dermatology, Fellowship In Cosmetic Dermatology',\n",
       "       'B.Sc, MBBS, FCCP - Pulmonary Medicine',\n",
       "       'MBBS, MS - General Surgery',\n",
       "       'MBBS, MRCOG(UK), Diploma of the Faculty of Family Planning (DFFP), DRCOG, Member of the Royal College of General Practitioners UK (MRCGP), Fellowship in Diabetes (UK)',\n",
       "       'BDS, MDS - Paedodontics And Preventive Dentistry',\n",
       "       'BHMS, MS - Psychology', 'MD - General Medicine',\n",
       "       'BDS, Fellow of Academy of General Education (FAGE)',\n",
       "       'MD - Skin & VD', 'MBBS, MD - Dermatology , Venereology & Leprosy',\n",
       "       'BDS, MDS - Periodontology and Oral Implantology', 'MBBS, DNB',\n",
       "       'MDS - Orthodontics, BDS', 'BHMS, Diploma in Dermatology',\n",
       "       'MBBS, MD - Pulmonary Medicine, MD - Tuberculosis & Respiratory Diseases / Pulmonary Medicine',\n",
       "       'MDS - Prosthodontist And Crown Bridge, BDS',\n",
       "       'MBBS, Diploma in Orthopaedics',\n",
       "       'MBBS, DNB - ENT, Diploma in Otorhinolaryngology (DLO)',\n",
       "       'BDS, MDS - Prosthodontics',\n",
       "       'MD - Dermatology, MBBS, DNB - Dermatology, Venereology & Leprosy, FRGUHS',\n",
       "       'MDS - Oral & Maxillofacial Surgery, BDS',\n",
       "       'MBBS, MD - Dermatology, DDV',\n",
       "       'MBBS, Diploma in Aesthetic Medicine, DDV',\n",
       "       'MBBS, Diploma in Tuberculosis and Chest Diseases (DTCD), DNB -Chest, Post Graduate Diploma in Diabetes',\n",
       "       'BDS, MDS - Orthodontics', 'BDS, Diploma in Laser Dentistry, MDS',\n",
       "       'BDS, MDS - Oral Medicine and Radiology',\n",
       "       'MBBS, Diploma in Anesthesiology, Certificate in Acupuncture',\n",
       "       \"BAMS, Yoga Instructor's Course, Diploma in Nutrition and Health Education\",\n",
       "       'MD - Dermatology, DDV, MBBS',\n",
       "       'MBBS, DNB - Family Medicine, Fellowship in Diabetology',\n",
       "       'MBBS, MS - ENT, MRCS (UK), Diploma in Otorhinolaryngology (DLO)',\n",
       "       'DVD, MBBS', 'DDVL, MBBS', 'MBBS, MD - Obstetrics & Gynaecology',\n",
       "       'MBBS, Diploma in Dermatology',\n",
       "       'BHMS, PGDPC (Post Graduation Diploma In Psychological Counselling)',\n",
       "       'BAMS, PGD Yoga', 'MDS - Prosthodontics, BDS',\n",
       "       'BAMS, MBA - Healthcare Services', 'DNB - ENT, MD - Physician',\n",
       "       'MDS - Paedodontics And Preventive Dentistry, Membership of the Faculty of Dental Surgeons(MFDS)',\n",
       "       'MBBS, PGDHHM, PGDMLS', 'MBBS, DNB - Dermatology & Venereology',\n",
       "       'MBBS, MD - Obstetrics & Gynaecology, MRCOG(UK)',\n",
       "       'DNB - Otorhinolaryngology, MNAMS - General Surgery, MS - Otorhinolaryngology, MBBS',\n",
       "       'BDS, PhD - Orthodontics & Dentofacial Orthopaedics',\n",
       "       'MBBS, MD - Pediatrics', 'MD - Dermatology, MBBS',\n",
       "       'MBBS, MD - Internal Medicine, Post Graduate Diploma in Diabetology (PGDD)',\n",
       "       'BDS, Certificate of Oral Implantology',\n",
       "       'BDS, Doctor of Dental Surgery (DDS)',\n",
       "       'MBBS, Diploma in Dermatology, DDVL, DDV',\n",
       "       'MBBS, MD - Skin & VD, DDVL',\n",
       "       'MDS - Orthodontics and Dentofacial Orthopaedics',\n",
       "       'BHMS, Diploma in Cosmetology',\n",
       "       'MBBS, DDVL, DNB - Dermatology & Venereology, Fellowship In Dermatosurgery',\n",
       "       'BAMS, MBA - Hospital Management', 'MBBS, DDVL, MD - Dermatology',\n",
       "       'MBBS, Diploma in Otorhinolaryngology (DLO), MS - ENT',\n",
       "       'MBBS, MD - Dermatology, Fellowship In Dermatosurgery',\n",
       "       'MD - Dermatology , Venereology & Leprosy, MBBS',\n",
       "       'MDS - Oral & Maxillofacial Surgery',\n",
       "       'MBBS, MD - Dermatology, FRGUHS, Fellowship in Cosmetology',\n",
       "       'MBBS, MS - ENT, FRCS, MRCS (UK), Dip Otolaryngology and Head and neck Surgery',\n",
       "       'MBBS, DNB - General Medicine, MF- Homeopathy, MSc - Psychotherapy And Counselling, Post Graduate Diploma in Diabetology (PGDD)',\n",
       "       'MBBS, DNB - Family Medicine, CCEBDM',\n",
       "       'MBBS, Diploma in Laparoscopy, FRCS - General Surgery (Upper GI)',\n",
       "       'MBBS, DNB - General Medicine, Post Graduate Diploma in Diabetology (PGDD)',\n",
       "       'Doctor of Homeopathic Medicine (HMD)',\n",
       "       'DHMS (Diploma in Homeopathic Medicine and Surgery), Diploma in Clinical Cosmetology, Diploma in Trichology - Cosmetology',\n",
       "       'BHMS, Post Graduate Diploma in Clinical Research (PGDCR)',\n",
       "       'BHMS, Certificate in Child Health (CCH)',\n",
       "       'MDS, Advanced Certificate Course in Dental Implants, BDS',\n",
       "       'BDS, MDS - Prosthodontist And Crown Bridge',\n",
       "       'DNB - General Medicine, MBBS', 'MBBS, MNAMS- Family Medicine',\n",
       "       'MBBS, MD - Internal Medicine, FACP (USA)',\n",
       "       'MBBS, Diploma in Otorhinolaryngology (DLO), MD - Anatomy',\n",
       "       'BDS, FICD',\n",
       "       'FRCP, MRCPS, MBBS, MD - General Medicine, Diploma in Medical Law and Ethics (PGDMLE)',\n",
       "       'MBBS, MD - (Dermatology & STD)', 'MBBS, DVD, MD - Dermatology',\n",
       "       'MBBS, Diploma in Emergency Medicine',\n",
       "       'BDS, MBA, Certification in Aesthetic Dentistry',\n",
       "       'MBBS, Fellow of Academy of General Education (FAGE), MS - ENT, Fellowship in Advanced Endoscopic Sinus Surgery',\n",
       "       'BSc, DHMS (Diploma in Homeopathic Medicine and Surgery)',\n",
       "       'BHMS, Doctor of Homeopathic Medicine (HMD), MBA',\n",
       "       'MDS - Oral & Maxillofacial Surgery, Fellowship Program in Oral Implantology and LASER Dentistry, BDS',\n",
       "       'MBBS, MS - ENT, Fellowship in Head & Neck Surgery',\n",
       "       'BDS, MDS - Prosthodontist & Oral Implantologist',\n",
       "       'MD - Internal Medicine, MBBS, Diplomate from the American Board of Internal Medicine',\n",
       "       'BAMS, MD - Ayurveda Medicine, PhD- Ayurveda',\n",
       "       \"BAMS, PGD ND, Yoga Instructor's Course\",\n",
       "       'BDS, Fellowship Program in Aesthetic Dentistry and Occlusion',\n",
       "       'MBBS, Diploma in Public Health, MD - Community Medicine, Fellowship in Lifestyle Medicine',\n",
       "       'BAMS, MS - Ayurveda',\n",
       "       'Diploma in Otorhinolaryngology (DLO), Ph. D - ENT, MBBS, DNB - ENT',\n",
       "       'MDS - Orthodontics and Dentofacial Orthopaedics, BDS',\n",
       "       'MBBS, Diploma in Otorhinolaryngology (DLO), MS - Otorhinolaryngology',\n",
       "       'BSAM, BAMS, Fellow of Academy of General Education (FAGE)',\n",
       "       'MD - Homeopathy, BHMS', 'MBBS, DNB - Otorhinolaryngology, DLO',\n",
       "       'Get inspired by remarkable stories of people like you',\n",
       "       'MBBS, MD - General Medicine, Diploma in Diabetology',\n",
       "       'MD - Ayurveda Medicine',\n",
       "       'MD - Homeopathy, PG Diploma In Clinical Cosmetology (PGDCC), BHMS',\n",
       "       'DHMS (Diploma in Homeopathic Medicine and Surgery)',\n",
       "       'MD - Dermatology', 'MBBS, DDV, DNB',\n",
       "       'BDS, Post graduate diploma in Hospital Management',\n",
       "       'MBBS, Diploma in Anesthesiology',\n",
       "       'BDS, MDS - Oral & Maxillofacial Surgery, FDSRCS - Fellowship in Dental Surgery',\n",
       "       'MBBS, MD - Internal Medicine, Post Graduate Diploma in Diabetology (PGDD), DNB - General Medicine',\n",
       "       'BHMS, PG - Homeo, Integrated therapy in Cancer, Basic Course in Palliative Care',\n",
       "       'BHMS, Fellowship Course in Homoeopathic Dermatology, Masters in Counselling and Psychotherapy',\n",
       "       'MBBS, MD - Medicine, FCPS - General Surgery', 'BHMS, CSD',\n",
       "       'BHMS, MD (HOM) - Paeditrics, Fellowship Course in Homoeopathic Dermatology',\n",
       "       'M.S. (Ayurved) Stri Roga & Prasuti Tantra, BAMS',\n",
       "       'MBBS, MD - General Medicine, DNB - General Medicine',\n",
       "       'MBBS, MS - Otorhinolaryngology, Fellowship in laryngology',\n",
       "       'BDS, MDS - Prosthodontist And Crown Bridge, Certificate Course in Orthodontics',\n",
       "       'B.Sc, BAMS, MD - Ayurveda Medicine',\n",
       "       'DO, MS - Ophthalmology, MBBS', 'FRCS - General Surgery',\n",
       "       'BDS, MDS- Periodontist & Implantalogist',\n",
       "       'MBBS, MCh - Surgical Gastroenterology/G.I. Surgery',\n",
       "       'BDS, Certificate in Dental Implants',\n",
       "       'MBBS, DNB - General Medicine',\n",
       "       'MDS - Paedodontics And Preventive Dentistry, BDS',\n",
       "       'MBBS, Diploma in Tuberculosis and Chest Diseases (DTCD)',\n",
       "       'BAMS, MS - Ayurvedic General Surgery',\n",
       "       'MBBS, MD - Physician, DNB - General Medicine, Fellowship in Diabetology',\n",
       "       'MBBS, DNB - Internal Medicine',\n",
       "       'MBBS, FICA, MD - General Medicine',\n",
       "       'BDS, MDS - Periodontology and Oral Implantology, Current Concepts in American Dentistry Advances in Implantology and Oral Rehabilitation, Comprehensive Course in Modern Endodontics',\n",
       "       'MBBS, FACC, FCCP - Pulmonary Medicine', 'FWFO, FPFA',\n",
       "       'MBBS, MD - Internal Medicine, DM - Gastroenterology',\n",
       "       'MBBS, MD - General Medicine, DM - Cardiology',\n",
       "       'MBBS, DLO, MS - ENT',\n",
       "       'MS - ENT, Diploma in Otorhinolaryngology (DLO)',\n",
       "       'MBBS, Diploma in Family Medicine (DFM), Fellowship in Diabetology',\n",
       "       'BHMS, Diploma in Medical Cosmetology',\n",
       "       'MBBS, Diploma in Otorhinolaryngology (DLO), DNB - Otorhinolaryngology',\n",
       "       'MBBS, DDVL, Fellowship in Dermatological Laser Surgery, Fellowship In Cosmetic Dermatology',\n",
       "       'MBBS, MD - Family Medicine, Post Graduate Diploma in Diabetology (PGDD)',\n",
       "       'MBBS, MSc',\n",
       "       'Diploma in Otorhinolaryngology (DLO), MS - ENT, MBBS',\n",
       "       'MBBS, Diploma in Family Medicine (DFM)',\n",
       "       'MD - General Medicine, MBBS',\n",
       "       'DNB - ENT, Diploma in Otorhinolaryngology (DLO), MBBS',\n",
       "       'MBBS, MD - Dermatology, MD - Dermatology , Venereology & Leprosy',\n",
       "       'MBBS, Diploma in Child Health (DCH), DNB - Paediatrics',\n",
       "       'BSc, BHMS', 'BAMS, MD- Ayurveda Rasashastra',\n",
       "       'BAMS, PG Dip (Medical Education), Fellow of Academy of General Education (FAGE), MBA (Health Care)',\n",
       "       'MS - Otorhinolaryngology, MBBS',\n",
       "       'BAMS, MD - Alternate Medicine, Fellow of Academy of General Education (FAGE), Diploma in Preventive & Promotive Healthcare',\n",
       "       'BHMS, MD - General Medicine',\n",
       "       'MDS - Oral & Maxillofacial Surgery, Implant Training Course- Nobel Biocare, BDS',\n",
       "       'MBBS, Diploma in Dermatology, MD - Dermatology',\n",
       "       'MBBS, Certificate Course in Evidence Based Diabetes Management (CCEBDM)',\n",
       "       'DDVL', 'BHMS, DNHE', 'BAMS, Diploma in Clinical Nutrition',\n",
       "       'BHMS, MD - Alternate Medicine, Masters in Counselling and Psychotherapy',\n",
       "       'MBBS, MD - Internal Medicine, Post Graduate Diploma in Diabetology (PGDD), Fellowship in Diabetology',\n",
       "       'Diploma in Otorhinolaryngology (DLO), MBBS',\n",
       "       'MBBS, DNB - ENT, MS - ENT, FCPS - Oto-Rhino-Laryngology, Diploma in Otorhinolaryngology (DLO)',\n",
       "       'BDS, MDS - Paedodontics And Preventive Dentistry, Certification for Professional Chemical Peel Workshop',\n",
       "       'BHMS, Diploma in Cosmetology, MD - Dermatology',\n",
       "       'BAMS, M. D. IN KAYACHIKISTA', 'MBBS, MD - Pharmacology',\n",
       "       'MBBS, Fellowship of College of General Practice (FCGP)',\n",
       "       'MDS - Periodontology and Oral Implantology, BDS',\n",
       "       'MD - Homeopathy, PGDPC (Post Graduation Diploma In Psychological Counselling)',\n",
       "       'MBBS, DNB - Family Medicine',\n",
       "       'MBBS, MS - ENT, Diploma in Aesthetic Medicine',\n",
       "       'BDS, Post-Graduate Certificate in Oral Implantology (PGCOI)',\n",
       "       'BDS, MDS - Oral & Maxillofacial Surgery',\n",
       "       'MDS - Prosthodontist And Crown Bridge',\n",
       "       'MD - Homeopathy, BHMS, DNHE',\n",
       "       'MBBS, MD - Dermatology, Fellow of the American Academy of Dermatology (FAAD)',\n",
       "       'BAMS, MBA (HCS)', 'MBBS, DVD',\n",
       "       'MBBS, Diploma in Anesthesiology, Postgraduate Diploma Clinical Cardiology (PGDCC)',\n",
       "       'BHMS, MD - Ayurveda Medicine',\n",
       "       'MBBS, MASTERS IN MEDICAL SCIENCE AND TECHNOLOGY',\n",
       "       'DNB - Dermatology & Venereology, MBBS',\n",
       "       'BDS, MDS-Oral Pathology and Oral Microbiology',\n",
       "       'MBBS, MS - ENT, DNB',\n",
       "       'MBBS, Post Graduate Diploma in Diabetes, Fellowship in Diabetology',\n",
       "       'MD - Homeopathy, DHMS (Diploma in Homeopathic Medicine and Surgery)',\n",
       "       'MBBS, MS - ENT, DNB - ENT',\n",
       "       'MBBS, DDV, Diploma in Health Administration',\n",
       "       'BDS, Advanced Certificate Course in Dental Implants',\n",
       "       'MBBS, Diploma in Otorhinolaryngology (DLO), Fellow of Academy of General Education (FAGE), FRCS - General Surgery',\n",
       "       'BDS, MDS - Periodontics, Fellowship and Diplomate in Implantology from ICOI (USA), DICOI',\n",
       "       'MD - Dermatology , Venereology & Leprosy', 'BHMS, PGDHA',\n",
       "       'MBBS, MD - General Medicine, MRCP - General Medicine',\n",
       "       'BDS, MDS - Periodontics, MSc',\n",
       "       'BDS, Certification in Aesthetic Dentistry',\n",
       "       'MBBS, MD - Homeopathy, MD - General Medicine',\n",
       "       'MDS - Pedodontics, BDS',\n",
       "       'MBBS, MD - Dermatology, DNB - Dermatology & Venereology, F.C.P.S (Dermatology)',\n",
       "       'MD - Homeopathy',\n",
       "       'BDS, MDS - Oral & Maxillofacial Surgery, Training in Surgical Oncology',\n",
       "       'MBBS, MD - General Medicine, FCD - Diabetology',\n",
       "       'MBBS, Post Graduate Course in Diabetology, DipFM',\n",
       "       'Diploma in Child Health (DCH), MBBS',\n",
       "       'MD - General Medicine, DNB, Diploma in Geriatric Medicine',\n",
       "       'BAMS, Certificate Course in Kshar Sutra Surgery',\n",
       "       'MBBS, DORL (ENT), MS - ENT', 'MBBS, MD - Dermatology, DNB',\n",
       "       'MBBS, MD - General Medicine, Diploma in Cardiology',\n",
       "       'MBBS, MD - Oncology',\n",
       "       'BHMS, MD - Homeopathy, MA - Clinical Psychology',\n",
       "       'Diploma in Dermatology, MD - Dermatology',\n",
       "       'MBBS, PG in Diabetology, FCCP',\n",
       "       'MBBS, Diploma in Child Health (DCH), Diploma of The Australian Institute of Dermatology, PG Diploma in Endocrinology',\n",
       "       'MBBS, MD - Medicine, DM - Cardiology, FACC, FESC',\n",
       "       'BSc - Dietitics / Nutrition, MBBS, Diploma in Child Health (DCH)',\n",
       "       'MBBS, Diploma in Tuberculosis and Chest Diseases (DTCD), DNB - General Medicine',\n",
       "       'BHMS, MSc', 'MBBS, MD - General Medicine, CCEDM',\n",
       "       'BDS, MDS, Fellowship in Oral implantlogy',\n",
       "       'MBBS, MD - General Medicine, DM - Cardiology, FIAMS',\n",
       "       'BAMS, Certificate in Food and Nutrition, Diploma in Dietatics & Clinical Nutrition',\n",
       "       'MBBS, DNB - General Medicine, Fellowship in Diabetology(Johns Hopkins University School of Medicine, USA)',\n",
       "       'DDVL, Diploma in Dermatology',\n",
       "       'Diploma in Hospital Administration, BAMS',\n",
       "       'BAMS, MS - Ayurveda, Certificate in Child Health (CCH)',\n",
       "       'MBBS, MD - Internal Medicine, DNB - General Medicine, Post Graduate Diploma in Diabetology (PGDD)',\n",
       "       'MBBS, DDVL, Fellowship in Cosmetology and Dermatosurgery, Fellowship in Aesthetic Medicine',\n",
       "       'MBBS, MS - General Surgery, MS - Paediatrics Surgery',\n",
       "       'MBBS, MD - Dermatology, DVL - Dermatology & Venereology',\n",
       "       'MBBS, Post Graduate Course in Diabetology, FCPS - General Surgery',\n",
       "       'DMS, MD - Homeopathy', 'MDS, BDS', 'MDS - Pedodontics',\n",
       "       'BAMS, BSAM, MS - Counselling & Psychotherapy',\n",
       "       'MBBS, Advanced Certificate Course In Diabetes, PG in Diabetology, Post Graduate Diploma in Diabetology (PGDD)(University of Leicester, UK)',\n",
       "       'B.Sc, MBBS, MD - General Medicine, Master of Clinical Embryology, Diploma of Clinical Hypnotherapy',\n",
       "       'BDS, B.Sc - Zoology (Hons.)',\n",
       "       'MBBS, Fellowship in Diabetology, Diploma in Emergency Medicine',\n",
       "       'MBBS, PGD ND',\n",
       "       'DHMS (Diploma in Homeopathic Medicine and Surgery), MD - Homeopathy',\n",
       "       'MBBS, MD - Skin & VD',\n",
       "       'BHMS, Certificate Course in Advanced Homoeopathy (C.C.A.H), Post Graduate Diploma in Emergency Medical Services',\n",
       "       'BHMS, PG - Homeo',\n",
       "       'MBBS, DDV, FCPS - Dermatology, Venereology & Leprosy',\n",
       "       'B.Sc, BHMS, Certificate in Food and Nutrition, Certificate Course in Advanced Homoeopathy (C.C.A.H)',\n",
       "       'MBBS, MD - General Medicine, DNB - Nephrology',\n",
       "       'MBBS, MD - Dermatology, MNAMS - DERMATOLOGY, Diploma in Dermatology',\n",
       "       'MBBS, MD - Family Medicine',\n",
       "       'BAMS, Post Graduate Diploma in Emergency Services (PGDEMS), MS - Psychology',\n",
       "       'BHMS, CGO', 'MBBS, Post Graduate Diploma in Diabetology (PGDD)',\n",
       "       'MBBS, MD - General Medicine, DDV',\n",
       "       'MBBS, Fellowship in Emergency Medicine, Post Graduate Diploma in Diabetology (PGDD)(Madras Medical College), PG Diploma in Endocrinology',\n",
       "       'BDS, Professional Implantology Training Course (PITC), Advanced Surgical Training In Implants, Certification in Full Mouth Rehabilitation',\n",
       "       'MS - ENT, DNB - ENT',\n",
       "       'MBBS, MS - General Surgery, MCh - Neuro Surgery',\n",
       "       'MS - Otorhinolaryngology, DNB - Otorhinolaryngology, FCPS - Mid. & Gynae, MBBS',\n",
       "       'MBBS, Post Graduate Diploma in Diabetology (PGDD), MD - General Medicine',\n",
       "       'DNB - Family Medicine, MBBS, DHM',\n",
       "       'MBBS, Diploma in Child Health (DCH)',\n",
       "       'MDS - Operative Dentistry, BDS',\n",
       "       'BDS, Post Graduate Diploma In Aesthetic & Restorative Dentistry',\n",
       "       'MBBS, DDV, MD - Skin & VD',\n",
       "       'MBBS, DNB - ENT, DNB - Otorhinolaryngology',\n",
       "       'MBBS, MS - ENT, MCh - Oncology',\n",
       "       'MD - General Medicine, FRCP, FIAMS, MBBS',\n",
       "       'BDS, Diploma in Hospital Administration', 'MBBS, DM - Neurology',\n",
       "       'MS - ENT, DNB - ENT, MBBS',\n",
       "       'MBBS, MS - Otorhinolaryngology, MS - ENT, Fellowship in Rhinology and Endoscopic Skull Base Surgery, Fellowship in Head & Neck Surgery',\n",
       "       'MBBS, DDV, MD - Skin,VD & Leprosy',\n",
       "       'Post Graduate Certificate in Endodontics (PGCE), BDS',\n",
       "       'MBBS, D.D, MD - Dermatology',\n",
       "       'MBBS, MD - Dermatology, PhD - Dermatology & Venereology', 'BSAM',\n",
       "       'MBBS, MD - Dermatology, Fellowship in Dermatological Laser Surgery',\n",
       "       'MBBS, MD - Microbiology',\n",
       "       'BAMS, PG in Clinical Nutrition and Dietetics',\n",
       "       'MD-DVL, MBBS, DNB - Dermatology & Venereology',\n",
       "       'MBBS, MS - General Surgery, Diploma in Otorhinolaryngology (DLO)',\n",
       "       'MBBS, DNB - Obstetrics & Gynecology',\n",
       "       'MBBS, Diploma of the Faculty of Family Planning (DFFP), Diploma in Practical Dermatology, MRCGP',\n",
       "       'MBBS, DDV, Fellow of Academy of General Education (FAGE)',\n",
       "       'MBBS, Diploma in Cosmetology',\n",
       "       'MS - ENT, MBBS, DNB - Otorhinolaryngology', 'MS - Ayurveda, BAMS',\n",
       "       'MBBS, DDVL, Certificate of Completion of Specialist Training- Transplant Surgery (CCST-TS)',\n",
       "       'MBBS, MD - General Medicine, DM - Cardiology, Fellowship In Interventional Cardiology',\n",
       "       'MBBS, DNB - Dermatology & Venereology, Fellow of the American Academy of Dermatology (FAAD), DVD',\n",
       "       'MBBS, Fellowship in Diabetology', 'BAMS, MS - Psychology',\n",
       "       'MBBS, MS - MS.Medicine',\n",
       "       'MBBS, MD - Dermatology, Diploma in Medical Law and Ethics (PGDMLE), Diploma in Medical Cosmetology',\n",
       "       'MBBS, MD - Dermatology , Venereology & Leprosy, FRGUHS',\n",
       "       'MBBS, Diploma in Otorhinolaryngology (DLO), FAMS - Fellowship of the Academy Medicine',\n",
       "       'BDS, MDS - Prosthodontist & Oral Implantologist, Fellowship in Oral implantlogy',\n",
       "       'Diploma in Otorhinolaryngology (DLO), MBBS, DNB',\n",
       "       'BHMS, Post Graduate Diploma in Emergency Services (PGDEMS), PGDPC (Post Graduation Diploma In Psychological Counselling)',\n",
       "       'MBBS, DDV, DDVL', 'MBBS, MS - Orthopaedics',\n",
       "       'BDS, MDS - Endodontics',\n",
       "       'MBBS, Post Graduate Diploma in Maternity and Child Health (PGDMCH)',\n",
       "       'B.Sc, MSc, MBBS', 'BDS, Master of Public Health (MPH)',\n",
       "       'BHMS, Diploma in Nutrition and Health Education', 'MBBS, DGO',\n",
       "       'MBBS, Fellowship in Nephrology', 'MBBS, Diploma in Diabetology',\n",
       "       'BAMS, Post Graduate Diploma in Clinical Research (PGDCR)',\n",
       "       'BDS, Certificate Course in Implantology',\n",
       "       'BDS, Diploma in Health Administration', 'BDS, MBA (Health Care)',\n",
       "       'Diploma in Aesthetic Medicine, Certificate in Aesthetic Medicine, Diploma in Practical Dermatology, MBBS',\n",
       "       'MDS - Paedodontics And Preventive Dentistry, BDS, Certified in Inhalational Sedation',\n",
       "       'BHMS, PG Diploma in Preventive and Promotive Health Care (PGD PPHC), MSc. - Food Service Management & Dietetics, Certificate in Yoga & Meditation',\n",
       "       'MBBS, MD - Physiology, AFIH, Diploma in Diabetes Management Certificate Program',\n",
       "       'MBBS, MD - General Medicine, Post Graduate Diploma in Diabetology (PGDD), Post Graduate Diploma in Diabetology (PGDD)',\n",
       "       'MD - Ayurveda Medicine, BAMS',\n",
       "       'MBBS, DVD, DNB - Dermatology & Venereology',\n",
       "       'BDS, Certificate in Dental Implants, Certificate in Cosmetic Dentistry',\n",
       "       'MBBS, DDVL, DNB - Dermatology & Venereology, MNAMS (Membership of the National Academy)',\n",
       "       'BAMS, Post Graduate Diploma in Psychological Counseling',\n",
       "       'Diploma in Dermatology', 'BDS, MDS - Public Health Dentistry',\n",
       "       'MD - Dermatology , Venereology & Leprosy, DNB - Dermatology & Venereology',\n",
       "       'MBBS, DDVL, Certificate in Cosmetology',\n",
       "       'BHMS, PG - Homeo, Diploma in Diet and Nutrition', 'MBBS, DOMS',\n",
       "       'MS - Otorhinolaryngology, DNB - ENT, MBBS',\n",
       "       'BSc - Zoology, MBBS, Diploma in ENT, MS - ENT',\n",
       "       'MBBS, Diploma in Clinical Dermatology (UK)',\n",
       "       'Diploma in Ayurvedic Medicine (DAM)',\n",
       "       'MBBS, M.Med in Family Medicine, post graduate diploma in health Sciences in diabetology',\n",
       "       'MBBS, MS - ENT, Diploma in ENT',\n",
       "       'MBBS, Post Graduate Diploma in Dermotology (PGDD)',\n",
       "       'BAMS, MD - Alternate Medicine, Post Graduate Diploma in Clinical Research (PGDCR), Certificate in Aesthetic Medicine, Yoga Teachers Training Course, Certified in Ayurveda Approach to Diabetes mellitus, Certified in Ayurveda Beauty care',\n",
       "       'MBBS, DNB, DDVL', 'BAMS, PG Diploma in Panchakarma',\n",
       "       'MBBS, DNB, Master of Hospital Administration',\n",
       "       'BHMS, MD - Medicine',\n",
       "       'MBBS, DNB - Respiratory Diseases, FCCP - Pulmonary Medicine, DAA - Diploma in Allergy Asthma and Immunology, P.G Diploma in Diabetes Management, Fellowship in Clinical Cardiology',\n",
       "       'MBBS, MD - Dermatology, Diploma in Aesthetic Medicine, Diploma in International Academy of Aesthestic Medicine',\n",
       "       'MBBS, MD - Dermatology , Venereology & Leprosy, DNB - Dermatology & Venereology',\n",
       "       'MBBS, MS - General Surgery, DNB, FRCS - General Surgery, MCh - Surgical Gastroenterology/G.I. Surgery',\n",
       "       'BPTh/BPT, Masters Of Physiotheraphy, BAMS',\n",
       "       'MBBS, MD - Dermatology, Diploma in Dermatology',\n",
       "       'MBBS, MRCGP, Diploma in Child Health (DCH), DRCOG, Diploma of the Faculty of Family Planning (DFFP)',\n",
       "       'BDS, MDS - Operative Dentistry',\n",
       "       'MBBS, MD - Dermatology, Fellow of Academy of General Education (FAGE)',\n",
       "       'MBBS, MD - Dermatology, FRGUHS',\n",
       "       'BAMS, Diploma in Hospital Management',\n",
       "       'DDVL, MD - Dermatology , Venereology & Leprosy',\n",
       "       'BDS, Certificate in Orthodontics',\n",
       "       'MD - General Medicine, DNB - General Medicine, MBBS, European Diploma in Intensive Care Medicine (EDIC), Fellowship in Diabetology',\n",
       "       'MBBS, MD - TB & Chest',\n",
       "       'MBBS, DDVL, DNB - Dermatology & Venereology',\n",
       "       'MBBS, FRCS - Otolaryngology', 'BDS, MDS - Oral Medicine',\n",
       "       'MBBS, Diploma in Orthopaedics, MS - Orthopaedics',\n",
       "       'MD - Homeopathy, Diploma in Acupuncture',\n",
       "       'BDS, Fellowship in Aesthetic Medicine', 'MBBS, MD - Physician',\n",
       "       'MBBS, MD - General Medicine, Post Graduate Diploma in Diabetology (PGDD), Fellowship In Critical Care, Fellowship in Rheumatology',\n",
       "       'BDS, Fellowship in Oral implantlogy, Diploma in Laser Dentistry, Fellowship and Diplomate in Implantology from ICOI (USA)',\n",
       "       'MBBS, MD - Skin,VD & Leprosy',\n",
       "       'BAMS, Diploma in Emergency Medicine',\n",
       "       'BDS, PG Diploma in Conservative, Endodontics and Aesthetic Dentistry, Fellowship In Clinical Cosmetology, PG Diploma In Clinical Cosmetology (PGDCC), MBA - Hospital Management, Diploma in Cosmetic Dentistry, Fellow of Academy of General Education (FAGE), Advanced Retreatment Course in RCT, Advanced Endotontic Course On Root Canal, Certified Course in Oral Surgery, MIDA, Certification in Prosthodontics & Periodontology, Certified Advanced Course in Wisdom Tooth Extraction, Certificate in Cosmetic Dentistry, Fellowship in Aesthetic Dentistry (FAD), Post Graduate Certificate in Endodontics (PGCE)',\n",
       "       'FAMS - Fellowship of the Academy Medicine, MBBS, MS - ENT, Diploma in ENT, Specialized Training in Otology, Fellowship in Head & Neck Oncology Surgery, Advanced Endoscopy Training, Cochlear Implant Surgery, Advance Course on Diagnosis of Allergy and Immunotherapy',\n",
       "       'BDS, MDS - Conservative Dentistry & Endodontics, MD - Dental Laser',\n",
       "       'BHMS, MD - Homeopathy, MS - Counselling and Psychotherapy',\n",
       "       'BAMS, Fellowship in Medical Cosmetology',\n",
       "       'MDS - Periodontics, BDS, MDS',\n",
       "       'MBBS, MD - General Medicine, DM - Gastroenterology',\n",
       "       'MBBS, MS - Otorhinolaryngology, DNB',\n",
       "       'Diploma in Dermatology, MD - Skin,VD & Leprosy, MBBS',\n",
       "       'MBBS, MD - Alternate Medicine',\n",
       "       'BHMS, BHMS, Certificate in Child Health (CCH)',\n",
       "       'MBBS, MD - Aerospace Medicine, DIH, Diploma in Hospital Administration, Fellowship of College of General Practice (FCGP)',\n",
       "       'BDS, MDS - Orthodontics and Dentofacial Orthopaedics, Certificate of Oral Implantology',\n",
       "       'BHMS, MD - Alternate Medicine', 'MD - Skin & VD, MBBS',\n",
       "       'BAMS, Fellow of Academy of General Education (FAGE), Post Graduate Diploma In Yoga',\n",
       "       'MBBS, MSc - Clinical Dermatology',\n",
       "       'MBBS, Post Graduate Diploma in Medical Law and Ethics, Msc Clinical Research & Regulatory Affairs, Diploma in Family Medicine (DFM)',\n",
       "       'BDS, PGCAD',\n",
       "       'MBBS, MD - Cardiology, DM - Cardiology, FCCP - Pulmonary Medicine',\n",
       "       'DHMS (Diploma in Homeopathic Medicine and Surgery), Diploma in Trichology - Cosmetology, Diploma in Obesity & Pain management',\n",
       "       'BHMS, Diploma in Diet and Nutrition',\n",
       "       'MBBS, FCPS - Dermatology, Venereology & Leprosy',\n",
       "       'BDS, Certification in Clear Aligners, MDS - Orthodontics',\n",
       "       'MBBS, MD - General Medicine, Fellowship in Diabetes (UK), CCEBDM, CCT - Endocrinology and Diabetes Mellitus',\n",
       "       'MBBS, DNB - Dermatology & Venereology, DDV, DVD',\n",
       "       'MBBS, Fellowship in Diabetology, Certificate Course in Gestational Diabetes Mellitus',\n",
       "       'BHMS, MD - Homeopathy, MBA - Hospital Management',\n",
       "       'MBBS, DNB - Internal Medicine, M.H.Sc-Diabetology',\n",
       "       'DNB - Dermatology, Venereology & Leprosy, MBBS, DDVL',\n",
       "       'DNB - Pediatrics, MBBS',\n",
       "       'M.D. (Ayu.), Panchkarma, Consultant Rheumatologist (Ayu.), DYSc., BAMS',\n",
       "       'MBBS, Diploma in Clinical Dermatology (UK), Diploma In Skin Aesthetics',\n",
       "       'MBBS, MD - Medicine, DM - Nephrology',\n",
       "       'MBBS, MS - General Surgery, MD - Medicine',\n",
       "       'MD - Dermatology , Venereology & Leprosy, DNB, MRCP (UK)',\n",
       "       'MBBS, DDV, DNB, MD - Dermatology',\n",
       "       'MBBS, MS - ENT, Fellowship In Phonosurgery',\n",
       "       'Diploma in ENT, MBBS', 'BHMS, MD - Medicine, PhD - Medicine',\n",
       "       'BHMS, Certificate in Food and Nutrition',\n",
       "       'BAMS, DNHE, Certification In Yoga', 'MBBS, DLO, DNB - ENT',\n",
       "       'MBBS, MD - General Medicine, DM - Medical Oncology',\n",
       "       'MBBS, MD - Dermatology , Venereology & Leprosy, Fellowship In Dermatosurgery, Certificate Course In Cosmetic Dermatology & Lasers',\n",
       "       'MD - Practice Of Medicine, BHMS, Diploma in Trichology - Cosmetology, Certificate in Child Health (CCH), CGO, MBBS',\n",
       "       'MBBS, DPM (Psychiatry)',\n",
       "       'MBBS, Diploma in Otorhinolaryngology (DLO), MS - ENT, FRCS - General Surgery',\n",
       "       'MBBS, MD - Community Medicine',\n",
       "       'MBBS, MD - General Medicine, Post Graduate Diploma in Diabetology (PGDD)(Madras Medical College)',\n",
       "       'MD - Dermatology, DNB - Dermatology & Venereology, MBBS',\n",
       "       'MS - Otorhinolaryngology, DNB - ENT, DHM, MBBS',\n",
       "       'B.Sc, BAMS, MD - Yoga and Rehab', 'MBBS, MD - Skin & VD, MAMS',\n",
       "       'MBBS, PG Diploma In Emergency Trauma Care, ACLS',\n",
       "       'MBBS, DDVL, Fellowship in Pediatric Dermatology',\n",
       "       'MBBS, DNB - Dermatology, Venereology & Leprosy',\n",
       "       'MBBS, DDVL, Fellowship IN FUE Hair Transplant Technique',\n",
       "       'MBBS, Postgraduate Diploma Clinical Cardiology (PGDCC), PG Diploma in Human Rights',\n",
       "       'MBBS, DNB - Paediatrics, Diploma in Child Health (DCH)',\n",
       "       'MBBS, Diploma in Dermatology, Diploma in Medical Cosmetology',\n",
       "       'MBBS, DDVL, AFIH', 'MBBS, MS - Otorhinolaryngology, MS - ENT',\n",
       "       'MD - Panchakarma, BAMS', 'DNB - General Medicine, MD - Physician',\n",
       "       'MBBS, MD - Family Medicine, Post Graduate Diploma in Diabetes, Certification Course In Diabetes',\n",
       "       'MD - Dermatology , Venereology & Leprosy, Fellow of the American Academy of Dermatology (FAAD), MBBS',\n",
       "       'MD - Homeopathy, PGCR',\n",
       "       'BDS, MDS - Endodontics, Certification in Laser Dentistry',\n",
       "       'MBBS, Diploma in Otorhinolaryngology (DLO), DNB - Ophthalmology',\n",
       "       'BAMS, MD - Ayurveda Medicine, Fellowship in Sexual Medicine, Fellowship in Rheumatology',\n",
       "       'MBBS, MD - Dermatology, DNB - Dermatology & Venereology, Fellowship in Cosmetology',\n",
       "       'MDS - Community Dentistry, BDS', 'MBBS, DNB - Nephrology',\n",
       "       'MBBS, MD - General Medicine, Post Graduate Diploma in Diabetology (PGDD)',\n",
       "       'MBBS, MD - General Medicine, Post Graduate Diploma in Diabetology (PGDD), Certificate Course in Evidence Based Diabetes Management (CCEBDM), FRCP',\n",
       "       'BAMS, MD-Ayurvedic Vachaspati',\n",
       "       'BAMS, MD - Ayurveda Medicine, MBA - Hospital Management',\n",
       "       'MBBS, DNB - ENT, Fellowship in Neuro-Otology and Skull Base Surgery (USA)',\n",
       "       'BDS, MDS - Orthodontics and Dentofacial Orthopaedics, Certificate of Oral Implantology, Fellowship in Aesthetic Medicine, Invisalign Training Course',\n",
       "       'MBBS, MS - General Surgery, FRCS - General Surgery, MCh - Urology, DNB - Urology/Genito - Urinary Surgery',\n",
       "       'MBBS, AFIH, Fellowship in Diabetology',\n",
       "       'BDS, MDS - Prosthodontist And Crown Bridge, Fellowship in Oral implantlogy',\n",
       "       'MBBS, DVL, MD - Dermatology , Venereology & Leprosy',\n",
       "       'BHMS, Fellowship in Medical Cosmetology (FMC)',\n",
       "       'MBBS, MD - Dermatology, DNB - Dermatology & Venereology',\n",
       "       'MBBS, DDVL, Fellowship In Dermatosurgery',\n",
       "       \"BAMS, Master of Arts - Yoga, Yoga Instructor's Course\",\n",
       "       'MBBS, MS - Otorhinolaryngology, Fellowship in Head & Neck Oncology Surgery, Fellowship in Skull Base Surgery, Fellowship in Head & Neck Oncology Surgery',\n",
       "       'PhD - Orthodontics & Dentofacial Orthopaedics, BDS', 'FICD',\n",
       "       'MBBS, BDS, FDSRCS - Fellowship in Dental Surgery',\n",
       "       'MDS - Endodontics, BDS',\n",
       "       'MS - ENT, Diploma in Otorhinolaryngology (DLO), Diploma in Opthalmology, MBBS',\n",
       "       'BHMS, M.Phil - Psychology, MSc - Applied Psychology',\n",
       "       'MS - Otorhinolaryngology, Diploma in Otorhinolaryngology (DLO)',\n",
       "       'MBBS, DNB - ENT',\n",
       "       'MBBS, MS - Otrohinolaryngology, DNB - Otorhinolaryngology',\n",
       "       'MD - Internal Medicine, MBBS', 'DNB - ENT, MS - ENT, MBBS',\n",
       "       'BDS, MDS - Prosthodontist And Crown Bridge, FICOI',\n",
       "       'MBBS, MS - Otorhinolaryngology, Diploma in Otorhinolaryngology (DLO), Diploma in Health Administration',\n",
       "       'DEHM, BEMS',\n",
       "       'BDS, MDS - Conservative Dentistry & Endodontics, DNB',\n",
       "       'MBBS, MD - Dermatology , Venereology & Leprosy, DDV',\n",
       "       'BAMS, MSc - Yoga', 'MBBS, DPH & H',\n",
       "       'BHMS, Certificate Course in Advanced Homoeopathy (C.C.A.H)',\n",
       "       'MD - Medicine, MBBS',\n",
       "       'MBBS, DDV, Fellowship in Dermatological Laser Surgery',\n",
       "       'MBBS, DNB - Pediatrics, Fellowship in Paediatric gastroenterology & Hepatology, Fellowship In Transplant Hepatology',\n",
       "       'DNB - Dermatology & Venereology, MNAMS - DERMATOLOGY, F.C.P.S (Dermatology), DDV, MBBS',\n",
       "       'MS - Otorhinolaryngology, DNB - Otorhinolaryngology, MBBS',\n",
       "       'MBBS, MD - General Medicine, DNB', 'DDVL, MBBS, F.A.M',\n",
       "       'BAMS, MD - Internal Medicine, Diploma in Emergency Medicine, Post Graduate Diploma In Yoga',\n",
       "       'MBBS, Post Graduate Diploma in Diabetology (PGDD), PG in Diabetology(Johns Hopkins University School of Medicine, USA)',\n",
       "       'BHMS, Post Graduate Diploma In Yoga',\n",
       "       'MBBS, MD - General Medicine, DNB - Neurology',\n",
       "       'LCEH, MD - Homeopathy',\n",
       "       'MRCGP, Post Graduate Diploma in Diabetology (PGDD)(University of Leicester, UK), MBBS',\n",
       "       'MBBS, MD - Dermatology , Venereology & Leprosy, MRCPS', 'MDS',\n",
       "       'MBBS, Post Graduate Diploma in Diabetology (PGDD), Certificate Course in Evidence Based Diabetes Management (CCEBDM)',\n",
       "       'MBBS, MS - ENT, Diploma in Otorhinolaryngology (DLO), FRCS - General Surgery',\n",
       "       'MBBS, MD - General Medicine, DM - Nephrology',\n",
       "       'MBBS, MD - Dermatology, DVL',\n",
       "       'BHMS, MD - Homeopathy Psychiatry, Post Graduate Diploma in Clinical Research (PGDCR), MS - Psychology',\n",
       "       'BAMS, MS - Counselling and Psychotherapy',\n",
       "       'FPFA, BDS, FPFA, MDS - Conservative Dentistry & Endodontics',\n",
       "       'MBBS, MD - Internal Medicine, DNB - General Medicine',\n",
       "       'DHMS (Diploma in Homeopathic Medicine and Surgery), PhD - Homoeopathy',\n",
       "       'MBBS, Fellow of Academy of General Education (FAGE), BSc - Dietitics / Nutrition',\n",
       "       'MBBS, MS - Otorhinolaryngology, DNB - Otorhinolaryngology',\n",
       "       'MBBS, Post Graduate Diploma in Diabetology (PGDD), MD - Diabetology',\n",
       "       'MBBS, M.D. (Psychiatry)',\n",
       "       'MBBS, MBBS, MD - General Medicine, MD - Community Medicine, MD - Medicine',\n",
       "       'BDS, Certificate in Dental Implants, Certificate in Dental Implants',\n",
       "       'Diploma in Cardiology, MBBS, MD - General Medicine, PG in Diabetology',\n",
       "       'MBBS, MRCGP, Diploma in Diabetes',\n",
       "       'DHMS, DHMS (Diploma in Homeopathic Medicine and Surgery)',\n",
       "       'MBBS, MS - ENT, Specialized Training in Otology',\n",
       "       'MBBS, MD - Dermatology , Venereology & Leprosy, DLO',\n",
       "       'MBBS, MS - General Surgery, MCh - Plastic Surgery',\n",
       "       'MBBS, MD - Dermatology, DDV, DNB', 'MBBS, Diploma in Acupuncture',\n",
       "       'MBBS, Post Graduate Diploma in Diabetology (PGDD), Diploma in Family Medicine (DFM)',\n",
       "       'MRCS (UK), MBBS, MS - Otorhinolaryngology',\n",
       "       'MS - Otorhinolaryngology, DNB - ENT',\n",
       "       'MBBS, Graduate Diploma in Family Medicine, Singapore',\n",
       "       'BDS, Certification in Full Mouth Rehabilitation',\n",
       "       'MRCP (UK), Diploma in Dermatology, MBBS',\n",
       "       'MBBS, DDVL, MD - Skin & VD', 'BDS, Diploma in Laser Dentistry',\n",
       "       'DM - Pulmonary Medicine, MBBS, DM - Critical Care Medicine',\n",
       "       'BHMS, Diploma in Dermatology (Alt)',\n",
       "       'BDS, Certificate in Dental Implantology',\n",
       "       'MBBS, MS - General Surgery, Fellow of Academy of General Education (FAGE), Diploma in Laparoscopy',\n",
       "       'MBBS, MD - Skin,VD & Leprosy, Fellow of the American Academy of Dermatology (FAAD), DNB - Dermatology & Venereology',\n",
       "       'BHMS, PGDPC (Post Graduation Diploma In Psychological Counselling), Post Graduate Diploma in Emergency Services (PGDEMS)',\n",
       "       'BDS, MDS - Oral Pathology & Bacteriology',\n",
       "       'MDS - Orthodontics, BDS, MOrth', 'BAMS, DNHE',\n",
       "       'MBBS, MD - Tuberculosis & Respiratory Diseases / Pulmonary Medicine',\n",
       "       'MBBS, Post Graduate Diploma in Family Medicine (PGDFM)',\n",
       "       'MD - Physician, FDIAB, Post Graduate Diploma in Diabetology (PGDD)',\n",
       "       'MBBS, FCCP, CCEBDM', 'MS - Otorhinolaryngology, MBBS, DNB - ENT',\n",
       "       'MBBS, DM - Cardiology, MD - Medicine',\n",
       "       'MD - General Medicine, MBBS, DM - Cardiology',\n",
       "       'MDS - Prosthodontist And Crown Bridge, Certificate of Oral Implantology, BDS',\n",
       "       'MBBS, MD - Rheumatology',\n",
       "       'MD - Physician, PGDHSc, Diploma in Diabetology, Postgraduate Diploma Clinical Cardiology (PGDCC), Fellowship in Diabetology(Johns Hopkins University School of Medicine, USA)',\n",
       "       'MS - ENT, DNB - ENT, MBBS, MRCS (UK), MNAMS (Membership of the National Academy)',\n",
       "       'BDS, Fellowship in Oral implantlogy, Certificate of Oral Implantology',\n",
       "       'BAMS, D-Pharm',\n",
       "       'MBBS, MD - Medicine, Fellowship in Diabetes Management',\n",
       "       'BAMS, Diploma in Cosmetology, Diploma in Health Administration',\n",
       "       'MS - General Surgery, MBBS',\n",
       "       'BAMS, M.S. (Ayurved) Stri Roga & Prasuti Tantra',\n",
       "       'MBBS, DNB - Neurology, DNB - General Medicine', 'MBBS, DDVL, DDV',\n",
       "       'BHMS, Post Graduate Diploma in Emergency Medical Services, DHMS (Diploma in Homeopathic Medicine and Surgery)',\n",
       "       'Certification in Aesthetic Dentistry, MDS - Orthodontics, BDS',\n",
       "       'DPM (Psychiatry), MBBS', 'MBBS, MD - Dermatology, DDVL',\n",
       "       'BDS, MDS - Orthodontics, Certificate of Oral Implantology',\n",
       "       'MD - Acupuncture, PG Diploma In Clinical Cosmetology (PGDCC), BDS',\n",
       "       'MBBS, PGDHA',\n",
       "       'BDS, MDS - Prosthodontist And Crown Bridge, Certificate of Oral Implantology',\n",
       "       'MBBS, MRCOG(UK)',\n",
       "       'MD - Medicine, Post Graduate Diploma in Diabetology (PGDD), MBBS, FRCP - Internal Medicine',\n",
       "       'MDS - Periodontics', 'MBBS, MS - General Surgery, FAIS, FIAGES',\n",
       "       'MBBS, MD - Dermatology , Venereology & Leprosy, DNB - Dermatology, Venereology & Leprosy',\n",
       "       'BAMS, Doctor of Medicine',\n",
       "       'MBBS, MD / MS - Obstetrics & Gynaecology'], dtype=object)"
      ]
     },
     "execution_count": 146,
     "metadata": {},
     "output_type": "execute_result"
    }
   ],
   "source": [
    "df_test['Qualification'].unique()"
   ]
  },
  {
   "cell_type": "code",
   "execution_count": 149,
   "metadata": {},
   "outputs": [
    {
     "data": {
      "text/plain": [
       "<matplotlib.axes._subplots.AxesSubplot at 0x1f37de94400>"
      ]
     },
     "execution_count": 149,
     "metadata": {},
     "output_type": "execute_result"
    },
    {
     "data": {
      "image/png": "[encoded data removed]",
      "text/plain": [
       "<Figure size 720x576 with 1 Axes>"
      ]
     },
     "metadata": {
      "needs_background": "light"
     },
     "output_type": "display_data"
    }
   ],
   "source": [
    "plt.figure(figsize=(10,8))\n",
    "sns.countplot(df_test['Profile'])"
   ]
  },
  {
   "cell_type": "markdown",
   "metadata": {},
   "source": [
    "General Medicine and Dentist are most frequent profile\n",
    "\n",
    "ENT is least frequent profile in the test dataset"
   ]
  },
  {
   "cell_type": "code",
   "execution_count": 157,
   "metadata": {},
   "outputs": [],
   "source": [
    "m = df_test['Place']\n",
    "df_test['Place']=df_test['Place'].fillna(m,inplace=True)"
   ]
  },
  {
   "cell_type": "markdown",
   "metadata": {},
   "source": [
    "Replacing null value in place column with mode\n",
    "\n",
    "And creating new categories in rating and miscellaneous columns"
   ]
  },
  {
   "cell_type": "code",
   "execution_count": 172,
   "metadata": {},
   "outputs": [
    {
     "name": "stdout",
     "output_type": "stream",
     "text": [
      "0    Andheri West, Mumbai\n",
      "1     Mulund West, Mumbai\n",
      "dtype: object\n"
     ]
    }
   ],
   "source": [
    "m= df_test['Place'].mode()\n",
    "print(m)"
   ]
  },
  {
   "cell_type": "code",
   "execution_count": 173,
   "metadata": {},
   "outputs": [],
   "source": [
    "df_test['Place'] = np.where(df_test['Place'].isnull(),'Andheri West, Mumbai',df_test['Place'])"
   ]
  },
  {
   "cell_type": "code",
   "execution_count": 174,
   "metadata": {},
   "outputs": [],
   "source": [
    "df_test['Rating'] = np.where(df_test['Rating'].isnull(),'Missing_Rating',df_test['Rating'])"
   ]
  },
  {
   "cell_type": "code",
   "execution_count": 175,
   "metadata": {},
   "outputs": [],
   "source": [
    "df_test['Miscellaneous_Info'] = np.where(df_test['Miscellaneous_Info'].isnull(),'Missing_info',df_test['Miscellaneous_Info'])"
   ]
  },
  {
   "cell_type": "code",
   "execution_count": 176,
   "metadata": {},
   "outputs": [
    {
     "data": {
      "text/plain": [
       "Qualification         0\n",
       "Experience            0\n",
       "Rating                0\n",
       "Profile               0\n",
       "Miscellaneous_Info    0\n",
       "Place                 0\n",
       "dtype: int64"
      ]
     },
     "execution_count": 176,
     "metadata": {},
     "output_type": "execute_result"
    }
   ],
   "source": [
    "df_test.isnull().sum()"
   ]
  },
  {
   "cell_type": "code",
   "execution_count": 183,
   "metadata": {},
   "outputs": [
    {
     "data": {
      "text/plain": [
       "<matplotlib.axes._subplots.AxesSubplot at 0x1f37e4dabe0>"
      ]
     },
     "execution_count": 183,
     "metadata": {},
     "output_type": "execute_result"
    },
    {
     "data": {
      "image/png": "[encoded data removed]",
      "text/plain": [
       "<Figure size 864x576 with 1 Axes>"
      ]
     },
     "metadata": {
      "needs_background": "light"
     },
     "output_type": "display_data"
    }
   ],
   "source": [
    "plt.figure(figsize=(12,8))\n",
    "df_test['Experience'].value_counts().plot()"
   ]
  },
  {
   "cell_type": "markdown",
   "metadata": {},
   "source": [
    "Maximum docters have 10 years experience\n",
    "\n",
    "Least number of docters have 51 years of experience"
   ]
  },
  {
   "cell_type": "code",
   "execution_count": 184,
   "metadata": {},
   "outputs": [],
   "source": [
    "ord_obj = OrdinalEncoder()\n",
    "for i in df_test.columns:\n",
    "    df_test[i] = ord_obj.fit_transform(df_test[i].values.reshape(-1,1))\n",
    "    "
   ]
  },
  {
   "cell_type": "code",
   "execution_count": 185,
   "metadata": {},
   "outputs": [
    {
     "data": {
      "text/html": [
       "<div>\n",
       "<style scoped>\n",
       "    .dataframe tbody tr th:only-of-type {\n",
       "        vertical-align: middle;\n",
       "    }\n",
       "\n",
       "    .dataframe tbody tr th {\n",
       "        vertical-align: top;\n",
       "    }\n",
       "\n",
       "    .dataframe thead th {\n",
       "        text-align: right;\n",
       "    }\n",
       "</style>\n",
       "<table border=\"1\" class=\"dataframe\">\n",
       "  <thead>\n",
       "    <tr style=\"text-align: right;\">\n",
       "      <th></th>\n",
       "      <th>Qualification</th>\n",
       "      <th>Experience</th>\n",
       "      <th>Rating</th>\n",
       "      <th>Profile</th>\n",
       "      <th>Miscellaneous_Info</th>\n",
       "      <th>Place</th>\n",
       "    </tr>\n",
       "  </thead>\n",
       "  <tbody>\n",
       "    <tr>\n",
       "      <th>0</th>\n",
       "      <td>241.0</td>\n",
       "      <td>28.0</td>\n",
       "      <td>36.0</td>\n",
       "      <td>4.0</td>\n",
       "      <td>910.0</td>\n",
       "      <td>142.0</td>\n",
       "    </tr>\n",
       "    <tr>\n",
       "      <th>1</th>\n",
       "      <td>340.0</td>\n",
       "      <td>24.0</td>\n",
       "      <td>36.0</td>\n",
       "      <td>3.0</td>\n",
       "      <td>910.0</td>\n",
       "      <td>580.0</td>\n",
       "    </tr>\n",
       "    <tr>\n",
       "      <th>2</th>\n",
       "      <td>258.0</td>\n",
       "      <td>34.0</td>\n",
       "      <td>9.0</td>\n",
       "      <td>2.0</td>\n",
       "      <td>153.0</td>\n",
       "      <td>212.0</td>\n",
       "    </tr>\n",
       "    <tr>\n",
       "      <th>3</th>\n",
       "      <td>6.0</td>\n",
       "      <td>0.0</td>\n",
       "      <td>36.0</td>\n",
       "      <td>0.0</td>\n",
       "      <td>910.0</td>\n",
       "      <td>374.0</td>\n",
       "    </tr>\n",
       "    <tr>\n",
       "      <th>4</th>\n",
       "      <td>79.0</td>\n",
       "      <td>7.0</td>\n",
       "      <td>0.0</td>\n",
       "      <td>1.0</td>\n",
       "      <td>816.0</td>\n",
       "      <td>231.0</td>\n",
       "    </tr>\n",
       "  </tbody>\n",
       "</table>\n",
       "</div>"
      ],
      "text/plain": [
       "   Qualification  Experience  Rating  Profile  Miscellaneous_Info  Place\n",
       "0          241.0        28.0    36.0      4.0               910.0  142.0\n",
       "1          340.0        24.0    36.0      3.0               910.0  580.0\n",
       "2          258.0        34.0     9.0      2.0               153.0  212.0\n",
       "3            6.0         0.0    36.0      0.0               910.0  374.0\n",
       "4           79.0         7.0     0.0      1.0               816.0  231.0"
      ]
     },
     "execution_count": 185,
     "metadata": {},
     "output_type": "execute_result"
    }
   ],
   "source": [
    "df_test.head()"
   ]
  },
  {
   "cell_type": "code",
   "execution_count": 186,
   "metadata": {},
   "outputs": [],
   "source": [
    "df_test_new = pd.DataFrame(scaler.fit_transform(df_test),columns=df_test.columns)"
   ]
  },
  {
   "cell_type": "markdown",
   "metadata": {},
   "source": [
    "Dataset after scaling"
   ]
  },
  {
   "cell_type": "code",
   "execution_count": 228,
   "metadata": {},
   "outputs": [
    {
     "data": {
      "text/html": [
       "<div>\n",
       "<style scoped>\n",
       "    .dataframe tbody tr th:only-of-type {\n",
       "        vertical-align: middle;\n",
       "    }\n",
       "\n",
       "    .dataframe tbody tr th {\n",
       "        vertical-align: top;\n",
       "    }\n",
       "\n",
       "    .dataframe thead th {\n",
       "        text-align: right;\n",
       "    }\n",
       "</style>\n",
       "<table border=\"1\" class=\"dataframe\">\n",
       "  <thead>\n",
       "    <tr style=\"text-align: right;\">\n",
       "      <th></th>\n",
       "      <th>Qualification</th>\n",
       "      <th>Experience</th>\n",
       "      <th>Rating</th>\n",
       "      <th>Profile</th>\n",
       "      <th>Miscellaneous_Info</th>\n",
       "      <th>Place</th>\n",
       "    </tr>\n",
       "  </thead>\n",
       "  <tbody>\n",
       "    <tr>\n",
       "      <th>0</th>\n",
       "      <td>-0.102089</td>\n",
       "      <td>0.325858</td>\n",
       "      <td>0.551066</td>\n",
       "      <td>0.901673</td>\n",
       "      <td>0.696899</td>\n",
       "      <td>-0.843975</td>\n",
       "    </tr>\n",
       "    <tr>\n",
       "      <th>1</th>\n",
       "      <td>0.430414</td>\n",
       "      <td>0.112731</td>\n",
       "      <td>0.551066</td>\n",
       "      <td>0.297007</td>\n",
       "      <td>0.696899</td>\n",
       "      <td>1.672536</td>\n",
       "    </tr>\n",
       "    <tr>\n",
       "      <th>2</th>\n",
       "      <td>-0.010649</td>\n",
       "      <td>0.645548</td>\n",
       "      <td>-1.752155</td>\n",
       "      <td>-0.307658</td>\n",
       "      <td>-1.868656</td>\n",
       "      <td>-0.441793</td>\n",
       "    </tr>\n",
       "  </tbody>\n",
       "</table>\n",
       "</div>"
      ],
      "text/plain": [
       "   Qualification  Experience    Rating   Profile  Miscellaneous_Info     Place\n",
       "0      -0.102089    0.325858  0.551066  0.901673            0.696899 -0.843975\n",
       "1       0.430414    0.112731  0.551066  0.297007            0.696899  1.672536\n",
       "2      -0.010649    0.645548 -1.752155 -0.307658           -1.868656 -0.441793"
      ]
     },
     "execution_count": 228,
     "metadata": {},
     "output_type": "execute_result"
    }
   ],
   "source": [
    "df_test_new.head(3)"
   ]
  },
  {
   "cell_type": "markdown",
   "metadata": {},
   "source": [
    "Loading saved model to predict the test data"
   ]
  },
  {
   "cell_type": "code",
   "execution_count": 226,
   "metadata": {},
   "outputs": [],
   "source": [
    "load_model  = pickle.load(open(fees,'rb'))"
   ]
  },
  {
   "cell_type": "code",
   "execution_count": 227,
   "metadata": {},
   "outputs": [
    {
     "data": {
      "text/plain": [
       "array([ 0.06413357,  0.09105393, -0.31235347, ...,  0.22358913,\n",
       "       -0.06267914, -0.13464404])"
      ]
     },
     "execution_count": 227,
     "metadata": {},
     "output_type": "execute_result"
    }
   ],
   "source": [
    "load_model.predict(df_test_new)"
   ]
  },
  {
   "cell_type": "code",
   "execution_count": null,
   "metadata": {},
   "outputs": [],
   "source": []
  }
 ],
 "metadata": {
  "kernelspec": {
   "display_name": "Python 3",
   "language": "python",
   "name": "python3"
  },
  "language_info": {
   "codemirror_mode": {
    "name": "ipython",
    "version": 3
   },
   "file_extension": ".py",
   "mimetype": "text/x-python",
   "name": "python",
   "nbconvert_exporter": "python",
   "pygments_lexer": "ipython3",
   "version": "3.7.3"
  }
 },
 "nbformat": 4,
 "nbformat_minor": 2
}
